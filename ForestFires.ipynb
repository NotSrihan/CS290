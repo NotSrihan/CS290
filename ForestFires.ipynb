{
  "nbformat": 4,
  "nbformat_minor": 0,
  "metadata": {
    "colab": {
      "provenance": [],
      "include_colab_link": true
    },
    "kernelspec": {
      "name": "python3",
      "display_name": "Python 3"
    },
    "language_info": {
      "name": "python"
    }
  },
  "cells": [
    {
      "cell_type": "markdown",
      "metadata": {
        "id": "view-in-github",
        "colab_type": "text"
      },
      "source": [
        "<a href=\"https://colab.research.google.com/github/NotSrihan/CS290/blob/main/ForestFires.ipynb\" target=\"_parent\"><img src=\"https://colab.research.google.com/assets/colab-badge.svg\" alt=\"Open In Colab\"/></a>"
      ]
    },
    {
      "cell_type": "code",
      "source": [
        "pip install ucimlrepo"
      ],
      "metadata": {
        "colab": {
          "base_uri": "https://localhost:8080/"
        },
        "id": "pllouFDFonyk",
        "outputId": "3fa5f099-561c-40db-c347-a1c9a6675114"
      },
      "execution_count": 39,
      "outputs": [
        {
          "output_type": "stream",
          "name": "stdout",
          "text": [
            "Requirement already satisfied: ucimlrepo in /usr/local/lib/python3.10/dist-packages (0.0.7)\n",
            "Requirement already satisfied: pandas>=1.0.0 in /usr/local/lib/python3.10/dist-packages (from ucimlrepo) (2.2.2)\n",
            "Requirement already satisfied: certifi>=2020.12.5 in /usr/local/lib/python3.10/dist-packages (from ucimlrepo) (2024.8.30)\n",
            "Requirement already satisfied: numpy>=1.22.4 in /usr/local/lib/python3.10/dist-packages (from pandas>=1.0.0->ucimlrepo) (1.26.4)\n",
            "Requirement already satisfied: python-dateutil>=2.8.2 in /usr/local/lib/python3.10/dist-packages (from pandas>=1.0.0->ucimlrepo) (2.8.2)\n",
            "Requirement already satisfied: pytz>=2020.1 in /usr/local/lib/python3.10/dist-packages (from pandas>=1.0.0->ucimlrepo) (2024.2)\n",
            "Requirement already satisfied: tzdata>=2022.7 in /usr/local/lib/python3.10/dist-packages (from pandas>=1.0.0->ucimlrepo) (2024.2)\n",
            "Requirement already satisfied: six>=1.5 in /usr/local/lib/python3.10/dist-packages (from python-dateutil>=2.8.2->pandas>=1.0.0->ucimlrepo) (1.16.0)\n"
          ]
        }
      ]
    },
    {
      "cell_type": "code",
      "execution_count": 40,
      "metadata": {
        "id": "rvHYlQqakfT4"
      },
      "outputs": [],
      "source": [
        "import pandas as pd\n",
        "import math\n",
        "import numpy as np"
      ]
    },
    {
      "cell_type": "code",
      "source": [
        "from ucimlrepo import fetch_ucirepo\n",
        "\n",
        "# fetch dataset\n",
        "algerian_forest_fires = fetch_ucirepo(id=547)\n",
        "\n",
        "# data (as pandas dataframes)\n",
        "X = algerian_forest_fires.data.features\n",
        "y = algerian_forest_fires.data.targets\n",
        "\n",
        "# metadata\n",
        "print(algerian_forest_fires.metadata)\n",
        "\n",
        "# variable information\n",
        "print(algerian_forest_fires.variables)\n"
      ],
      "metadata": {
        "id": "D1XQmOpAl-vN",
        "colab": {
          "base_uri": "https://localhost:8080/"
        },
        "outputId": "a09e7bf8-1223-47af-bd76-f327cc0a3a03"
      },
      "execution_count": 41,
      "outputs": [
        {
          "output_type": "stream",
          "name": "stdout",
          "text": [
            "{'uci_id': 547, 'name': 'Algerian Forest Fires', 'repository_url': 'https://archive.ics.uci.edu/dataset/547/algerian+forest+fires+dataset', 'data_url': 'https://archive.ics.uci.edu/static/public/547/data.csv', 'abstract': 'The dataset includes 244 instances that regroup a data of two regions of Algeria.', 'area': 'Biology', 'tasks': ['Classification', 'Regression'], 'characteristics': ['Multivariate'], 'num_instances': 244, 'num_features': 14, 'feature_types': ['Real'], 'demographics': [], 'target_col': ['Classes  '], 'index_col': None, 'has_missing_values': 'no', 'missing_values_symbol': None, 'year_of_dataset_creation': 2019, 'last_updated': 'Tue Mar 19 2024', 'dataset_doi': '10.24432/C5KW4N', 'creators': [' Faroudja Abid'], 'intro_paper': {'ID': 325, 'type': 'NATIVE', 'title': ' Predicting Forest Fire in Algeria Using Data Mining Techniques: Case Study of the Decision Tree Algorithm', 'authors': 'Faroudja Abid, N.Izeboudjen', 'venue': 'Ezziyyani M. (eds) Advanced Intelligent Systems for Sustainable Development (AI2SD’2019). Advances in Intelligent Systems and Computing', 'year': 2020, 'journal': None, 'DOI': None, 'URL': 'https://rdcu.be/doIk7', 'sha': None, 'corpus': None, 'arxiv': None, 'mag': None, 'acl': None, 'pmid': None, 'pmcid': None}, 'additional_info': {'summary': 'The dataset includes 244 instances that regroup a data of two regions of Algeria,namely the Bejaia region located in the northeast of Algeria and the Sidi Bel-abbes region located in the northwest of Algeria.\\r\\n\\r\\n122 instances for each region. \\r\\n\\r\\nThe period from June 2012 to September 2012. \\r\\nThe dataset includes 11 attribues and 1 output attribue (class)\\r\\nThe 244 instances have been classified into â€˜fireâ€™ (138 classes) and â€˜not fireâ€™ (106 classes) classes.', 'purpose': None, 'funded_by': None, 'instances_represent': None, 'recommended_data_splits': None, 'sensitive_data': None, 'preprocessing_description': None, 'variable_info': \"1. Date : (DD/MM/YYYY) Day, month ('june' to 'september'), year (2012)\\r\\nWeather data observations \\r\\n2. Temp : temperature noon (temperature max)  in Celsius degrees: 22 to 42\\r\\n3. RH : Relative Humidity in %: 21 to 90 \\r\\n4. Ws :Wind speed in km/h: 6 to 29 \\r\\n5. Rain: total day in mm: 0 to 16.8\\r\\nFWI Components  \\r\\n6. Fine Fuel Moisture Code (FFMC) index from the FWI system: 28.6 to 92.5 \\r\\n7. Duff Moisture Code (DMC) index from the FWI system: 1.1 to 65.9 \\r\\n8. Drought Code (DC) index from the FWI system:  7 to 220.4\\r\\n9. Initial Spread Index (ISI) index from the FWI system: 0 to 18.5 \\r\\n10. Buildup Index (BUI) index from the FWI system: 1.1 to 68\\r\\n11. Fire Weather Index (FWI) Index: 0 to 31.1\\r\\n12. Classes: two classes, namely   â€œFireâ€\\x9d and â€œnot Fireâ€\\x9d\\r\\n\", 'citation': None}}\n",
            "           name     role         type demographic               description  \\\n",
            "0        region  Feature  Categorical        None  Bejaia or Sidi-Bel Abbes   \n",
            "1           day  Feature      Integer        None                      None   \n",
            "2         month  Feature      Integer        None                      None   \n",
            "3          year  Feature      Integer        None                      None   \n",
            "4   Temperature  Feature      Integer        None          temperature noon   \n",
            "5            RH  Feature      Integer        None         relative humidity   \n",
            "6            Ws  Feature      Integer        None                wind speed   \n",
            "7         Rain   Feature   Continuous        None                      None   \n",
            "8          FFMC  Feature   Continuous        None   Fine Fuel Moisture Code   \n",
            "9           DMC  Feature   Continuous        None        Duff Moisture Code   \n",
            "10           DC  Feature   Continuous        None              Drought Code   \n",
            "11          ISI  Feature   Continuous        None      Initial Spread Index   \n",
            "12          BUI  Feature   Continuous        None             Buildup Index   \n",
            "13          FWI  Feature   Continuous        None        Fire Weather Index   \n",
            "14    Classes     Target  Categorical        None                      None   \n",
            "\n",
            "   units missing_values  \n",
            "0   None             no  \n",
            "1   None             no  \n",
            "2   None             no  \n",
            "3   None             no  \n",
            "4      C             no  \n",
            "5      %             no  \n",
            "6   km/h             no  \n",
            "7     mm             no  \n",
            "8   None             no  \n",
            "9   None             no  \n",
            "10  None             no  \n",
            "11  None             no  \n",
            "12  None             no  \n",
            "13  None             no  \n",
            "14  None             no  \n"
          ]
        }
      ]
    },
    {
      "cell_type": "code",
      "source": [
        "X.info()"
      ],
      "metadata": {
        "id": "gsdKT627mPsF",
        "colab": {
          "base_uri": "https://localhost:8080/"
        },
        "outputId": "6e19920c-cd51-422a-9515-c787591204e9"
      },
      "execution_count": 42,
      "outputs": [
        {
          "output_type": "stream",
          "name": "stdout",
          "text": [
            "<class 'pandas.core.frame.DataFrame'>\n",
            "RangeIndex: 244 entries, 0 to 243\n",
            "Data columns (total 14 columns):\n",
            " #   Column       Non-Null Count  Dtype  \n",
            "---  ------       --------------  -----  \n",
            " 0   region       244 non-null    object \n",
            " 1   day          244 non-null    int64  \n",
            " 2   month        244 non-null    int64  \n",
            " 3   year         244 non-null    int64  \n",
            " 4   Temperature  244 non-null    int64  \n",
            " 5    RH          244 non-null    int64  \n",
            " 6    Ws          244 non-null    int64  \n",
            " 7   Rain         244 non-null    float64\n",
            " 8   FFMC         244 non-null    float64\n",
            " 9   DMC          244 non-null    float64\n",
            " 10  DC           244 non-null    object \n",
            " 11  ISI          244 non-null    float64\n",
            " 12  BUI          244 non-null    float64\n",
            " 13  FWI          244 non-null    object \n",
            "dtypes: float64(5), int64(6), object(3)\n",
            "memory usage: 26.8+ KB\n"
          ]
        }
      ]
    },
    {
      "cell_type": "code",
      "source": [
        "y.info()"
      ],
      "metadata": {
        "id": "VWVCcAStmGXk",
        "colab": {
          "base_uri": "https://localhost:8080/"
        },
        "outputId": "65b29e48-e452-4570-c457-b1fb229506c9"
      },
      "execution_count": 43,
      "outputs": [
        {
          "output_type": "stream",
          "name": "stdout",
          "text": [
            "<class 'pandas.core.frame.DataFrame'>\n",
            "RangeIndex: 244 entries, 0 to 243\n",
            "Data columns (total 1 columns):\n",
            " #   Column     Non-Null Count  Dtype \n",
            "---  ------     --------------  ----- \n",
            " 0   Classes    243 non-null    object\n",
            "dtypes: object(1)\n",
            "memory usage: 2.0+ KB\n"
          ]
        }
      ]
    },
    {
      "cell_type": "code",
      "source": [
        "\n",
        "df = pd.concat([X,y], axis=1)\n",
        "\n",
        "dfused = ['region', 'Temperature', ' RH', ' Ws', 'Rain ', 'FFMC', 'DMC', 'DC', 'ISI', 'BUI', 'FWI', 'month', \"Classes  \"]\n",
        "DFused = df[dfused]"
      ],
      "metadata": {
        "id": "6oCQavqw5bVQ"
      },
      "execution_count": 44,
      "outputs": []
    },
    {
      "cell_type": "code",
      "source": [
        "DFused.head()"
      ],
      "metadata": {
        "id": "wHUVhsWjqp5m",
        "colab": {
          "base_uri": "https://localhost:8080/",
          "height": 206
        },
        "outputId": "09877d27-ea77-464b-8783-6a06c53c0eb3"
      },
      "execution_count": 45,
      "outputs": [
        {
          "output_type": "execute_result",
          "data": {
            "text/plain": [
              "   region  Temperature   RH   Ws  Rain   FFMC  DMC    DC  ISI  BUI  FWI  \\\n",
              "0  Bejaia           29   57   18    0.0  65.7  3.4   7.6  1.3  3.4  0.5   \n",
              "1  Bejaia           29   61   13    1.3  64.4  4.1   7.6  1.0  3.9  0.4   \n",
              "2  Bejaia           26   82   22   13.1  47.1  2.5   7.1  0.3  2.7  0.1   \n",
              "3  Bejaia           25   89   13    2.5  28.6  1.3   6.9  0.0  1.7    0   \n",
              "4  Bejaia           27   77   16    0.0  64.8  3.0  14.2  1.2  3.9  0.5   \n",
              "\n",
              "   month    Classes    \n",
              "0      6  not fire     \n",
              "1      6  not fire     \n",
              "2      6  not fire     \n",
              "3      6  not fire     \n",
              "4      6  not fire     "
            ],
            "text/html": [
              "\n",
              "  <div id=\"df-41e4372f-38e0-48e9-bfeb-5b54be46f61a\" class=\"colab-df-container\">\n",
              "    <div>\n",
              "<style scoped>\n",
              "    .dataframe tbody tr th:only-of-type {\n",
              "        vertical-align: middle;\n",
              "    }\n",
              "\n",
              "    .dataframe tbody tr th {\n",
              "        vertical-align: top;\n",
              "    }\n",
              "\n",
              "    .dataframe thead th {\n",
              "        text-align: right;\n",
              "    }\n",
              "</style>\n",
              "<table border=\"1\" class=\"dataframe\">\n",
              "  <thead>\n",
              "    <tr style=\"text-align: right;\">\n",
              "      <th></th>\n",
              "      <th>region</th>\n",
              "      <th>Temperature</th>\n",
              "      <th>RH</th>\n",
              "      <th>Ws</th>\n",
              "      <th>Rain</th>\n",
              "      <th>FFMC</th>\n",
              "      <th>DMC</th>\n",
              "      <th>DC</th>\n",
              "      <th>ISI</th>\n",
              "      <th>BUI</th>\n",
              "      <th>FWI</th>\n",
              "      <th>month</th>\n",
              "      <th>Classes</th>\n",
              "    </tr>\n",
              "  </thead>\n",
              "  <tbody>\n",
              "    <tr>\n",
              "      <th>0</th>\n",
              "      <td>Bejaia</td>\n",
              "      <td>29</td>\n",
              "      <td>57</td>\n",
              "      <td>18</td>\n",
              "      <td>0.0</td>\n",
              "      <td>65.7</td>\n",
              "      <td>3.4</td>\n",
              "      <td>7.6</td>\n",
              "      <td>1.3</td>\n",
              "      <td>3.4</td>\n",
              "      <td>0.5</td>\n",
              "      <td>6</td>\n",
              "      <td>not fire</td>\n",
              "    </tr>\n",
              "    <tr>\n",
              "      <th>1</th>\n",
              "      <td>Bejaia</td>\n",
              "      <td>29</td>\n",
              "      <td>61</td>\n",
              "      <td>13</td>\n",
              "      <td>1.3</td>\n",
              "      <td>64.4</td>\n",
              "      <td>4.1</td>\n",
              "      <td>7.6</td>\n",
              "      <td>1.0</td>\n",
              "      <td>3.9</td>\n",
              "      <td>0.4</td>\n",
              "      <td>6</td>\n",
              "      <td>not fire</td>\n",
              "    </tr>\n",
              "    <tr>\n",
              "      <th>2</th>\n",
              "      <td>Bejaia</td>\n",
              "      <td>26</td>\n",
              "      <td>82</td>\n",
              "      <td>22</td>\n",
              "      <td>13.1</td>\n",
              "      <td>47.1</td>\n",
              "      <td>2.5</td>\n",
              "      <td>7.1</td>\n",
              "      <td>0.3</td>\n",
              "      <td>2.7</td>\n",
              "      <td>0.1</td>\n",
              "      <td>6</td>\n",
              "      <td>not fire</td>\n",
              "    </tr>\n",
              "    <tr>\n",
              "      <th>3</th>\n",
              "      <td>Bejaia</td>\n",
              "      <td>25</td>\n",
              "      <td>89</td>\n",
              "      <td>13</td>\n",
              "      <td>2.5</td>\n",
              "      <td>28.6</td>\n",
              "      <td>1.3</td>\n",
              "      <td>6.9</td>\n",
              "      <td>0.0</td>\n",
              "      <td>1.7</td>\n",
              "      <td>0</td>\n",
              "      <td>6</td>\n",
              "      <td>not fire</td>\n",
              "    </tr>\n",
              "    <tr>\n",
              "      <th>4</th>\n",
              "      <td>Bejaia</td>\n",
              "      <td>27</td>\n",
              "      <td>77</td>\n",
              "      <td>16</td>\n",
              "      <td>0.0</td>\n",
              "      <td>64.8</td>\n",
              "      <td>3.0</td>\n",
              "      <td>14.2</td>\n",
              "      <td>1.2</td>\n",
              "      <td>3.9</td>\n",
              "      <td>0.5</td>\n",
              "      <td>6</td>\n",
              "      <td>not fire</td>\n",
              "    </tr>\n",
              "  </tbody>\n",
              "</table>\n",
              "</div>\n",
              "    <div class=\"colab-df-buttons\">\n",
              "\n",
              "  <div class=\"colab-df-container\">\n",
              "    <button class=\"colab-df-convert\" onclick=\"convertToInteractive('df-41e4372f-38e0-48e9-bfeb-5b54be46f61a')\"\n",
              "            title=\"Convert this dataframe to an interactive table.\"\n",
              "            style=\"display:none;\">\n",
              "\n",
              "  <svg xmlns=\"http://www.w3.org/2000/svg\" height=\"24px\" viewBox=\"0 -960 960 960\">\n",
              "    <path d=\"M120-120v-720h720v720H120Zm60-500h600v-160H180v160Zm220 220h160v-160H400v160Zm0 220h160v-160H400v160ZM180-400h160v-160H180v160Zm440 0h160v-160H620v160ZM180-180h160v-160H180v160Zm440 0h160v-160H620v160Z\"/>\n",
              "  </svg>\n",
              "    </button>\n",
              "\n",
              "  <style>\n",
              "    .colab-df-container {\n",
              "      display:flex;\n",
              "      gap: 12px;\n",
              "    }\n",
              "\n",
              "    .colab-df-convert {\n",
              "      background-color: #E8F0FE;\n",
              "      border: none;\n",
              "      border-radius: 50%;\n",
              "      cursor: pointer;\n",
              "      display: none;\n",
              "      fill: #1967D2;\n",
              "      height: 32px;\n",
              "      padding: 0 0 0 0;\n",
              "      width: 32px;\n",
              "    }\n",
              "\n",
              "    .colab-df-convert:hover {\n",
              "      background-color: #E2EBFA;\n",
              "      box-shadow: 0px 1px 2px rgba(60, 64, 67, 0.3), 0px 1px 3px 1px rgba(60, 64, 67, 0.15);\n",
              "      fill: #174EA6;\n",
              "    }\n",
              "\n",
              "    .colab-df-buttons div {\n",
              "      margin-bottom: 4px;\n",
              "    }\n",
              "\n",
              "    [theme=dark] .colab-df-convert {\n",
              "      background-color: #3B4455;\n",
              "      fill: #D2E3FC;\n",
              "    }\n",
              "\n",
              "    [theme=dark] .colab-df-convert:hover {\n",
              "      background-color: #434B5C;\n",
              "      box-shadow: 0px 1px 3px 1px rgba(0, 0, 0, 0.15);\n",
              "      filter: drop-shadow(0px 1px 2px rgba(0, 0, 0, 0.3));\n",
              "      fill: #FFFFFF;\n",
              "    }\n",
              "  </style>\n",
              "\n",
              "    <script>\n",
              "      const buttonEl =\n",
              "        document.querySelector('#df-41e4372f-38e0-48e9-bfeb-5b54be46f61a button.colab-df-convert');\n",
              "      buttonEl.style.display =\n",
              "        google.colab.kernel.accessAllowed ? 'block' : 'none';\n",
              "\n",
              "      async function convertToInteractive(key) {\n",
              "        const element = document.querySelector('#df-41e4372f-38e0-48e9-bfeb-5b54be46f61a');\n",
              "        const dataTable =\n",
              "          await google.colab.kernel.invokeFunction('convertToInteractive',\n",
              "                                                    [key], {});\n",
              "        if (!dataTable) return;\n",
              "\n",
              "        const docLinkHtml = 'Like what you see? Visit the ' +\n",
              "          '<a target=\"_blank\" href=https://colab.research.google.com/notebooks/data_table.ipynb>data table notebook</a>'\n",
              "          + ' to learn more about interactive tables.';\n",
              "        element.innerHTML = '';\n",
              "        dataTable['output_type'] = 'display_data';\n",
              "        await google.colab.output.renderOutput(dataTable, element);\n",
              "        const docLink = document.createElement('div');\n",
              "        docLink.innerHTML = docLinkHtml;\n",
              "        element.appendChild(docLink);\n",
              "      }\n",
              "    </script>\n",
              "  </div>\n",
              "\n",
              "\n",
              "<div id=\"df-20012e07-c58a-47e5-819c-0ede6e572b26\">\n",
              "  <button class=\"colab-df-quickchart\" onclick=\"quickchart('df-20012e07-c58a-47e5-819c-0ede6e572b26')\"\n",
              "            title=\"Suggest charts\"\n",
              "            style=\"display:none;\">\n",
              "\n",
              "<svg xmlns=\"http://www.w3.org/2000/svg\" height=\"24px\"viewBox=\"0 0 24 24\"\n",
              "     width=\"24px\">\n",
              "    <g>\n",
              "        <path d=\"M19 3H5c-1.1 0-2 .9-2 2v14c0 1.1.9 2 2 2h14c1.1 0 2-.9 2-2V5c0-1.1-.9-2-2-2zM9 17H7v-7h2v7zm4 0h-2V7h2v10zm4 0h-2v-4h2v4z\"/>\n",
              "    </g>\n",
              "</svg>\n",
              "  </button>\n",
              "\n",
              "<style>\n",
              "  .colab-df-quickchart {\n",
              "      --bg-color: #E8F0FE;\n",
              "      --fill-color: #1967D2;\n",
              "      --hover-bg-color: #E2EBFA;\n",
              "      --hover-fill-color: #174EA6;\n",
              "      --disabled-fill-color: #AAA;\n",
              "      --disabled-bg-color: #DDD;\n",
              "  }\n",
              "\n",
              "  [theme=dark] .colab-df-quickchart {\n",
              "      --bg-color: #3B4455;\n",
              "      --fill-color: #D2E3FC;\n",
              "      --hover-bg-color: #434B5C;\n",
              "      --hover-fill-color: #FFFFFF;\n",
              "      --disabled-bg-color: #3B4455;\n",
              "      --disabled-fill-color: #666;\n",
              "  }\n",
              "\n",
              "  .colab-df-quickchart {\n",
              "    background-color: var(--bg-color);\n",
              "    border: none;\n",
              "    border-radius: 50%;\n",
              "    cursor: pointer;\n",
              "    display: none;\n",
              "    fill: var(--fill-color);\n",
              "    height: 32px;\n",
              "    padding: 0;\n",
              "    width: 32px;\n",
              "  }\n",
              "\n",
              "  .colab-df-quickchart:hover {\n",
              "    background-color: var(--hover-bg-color);\n",
              "    box-shadow: 0 1px 2px rgba(60, 64, 67, 0.3), 0 1px 3px 1px rgba(60, 64, 67, 0.15);\n",
              "    fill: var(--button-hover-fill-color);\n",
              "  }\n",
              "\n",
              "  .colab-df-quickchart-complete:disabled,\n",
              "  .colab-df-quickchart-complete:disabled:hover {\n",
              "    background-color: var(--disabled-bg-color);\n",
              "    fill: var(--disabled-fill-color);\n",
              "    box-shadow: none;\n",
              "  }\n",
              "\n",
              "  .colab-df-spinner {\n",
              "    border: 2px solid var(--fill-color);\n",
              "    border-color: transparent;\n",
              "    border-bottom-color: var(--fill-color);\n",
              "    animation:\n",
              "      spin 1s steps(1) infinite;\n",
              "  }\n",
              "\n",
              "  @keyframes spin {\n",
              "    0% {\n",
              "      border-color: transparent;\n",
              "      border-bottom-color: var(--fill-color);\n",
              "      border-left-color: var(--fill-color);\n",
              "    }\n",
              "    20% {\n",
              "      border-color: transparent;\n",
              "      border-left-color: var(--fill-color);\n",
              "      border-top-color: var(--fill-color);\n",
              "    }\n",
              "    30% {\n",
              "      border-color: transparent;\n",
              "      border-left-color: var(--fill-color);\n",
              "      border-top-color: var(--fill-color);\n",
              "      border-right-color: var(--fill-color);\n",
              "    }\n",
              "    40% {\n",
              "      border-color: transparent;\n",
              "      border-right-color: var(--fill-color);\n",
              "      border-top-color: var(--fill-color);\n",
              "    }\n",
              "    60% {\n",
              "      border-color: transparent;\n",
              "      border-right-color: var(--fill-color);\n",
              "    }\n",
              "    80% {\n",
              "      border-color: transparent;\n",
              "      border-right-color: var(--fill-color);\n",
              "      border-bottom-color: var(--fill-color);\n",
              "    }\n",
              "    90% {\n",
              "      border-color: transparent;\n",
              "      border-bottom-color: var(--fill-color);\n",
              "    }\n",
              "  }\n",
              "</style>\n",
              "\n",
              "  <script>\n",
              "    async function quickchart(key) {\n",
              "      const quickchartButtonEl =\n",
              "        document.querySelector('#' + key + ' button');\n",
              "      quickchartButtonEl.disabled = true;  // To prevent multiple clicks.\n",
              "      quickchartButtonEl.classList.add('colab-df-spinner');\n",
              "      try {\n",
              "        const charts = await google.colab.kernel.invokeFunction(\n",
              "            'suggestCharts', [key], {});\n",
              "      } catch (error) {\n",
              "        console.error('Error during call to suggestCharts:', error);\n",
              "      }\n",
              "      quickchartButtonEl.classList.remove('colab-df-spinner');\n",
              "      quickchartButtonEl.classList.add('colab-df-quickchart-complete');\n",
              "    }\n",
              "    (() => {\n",
              "      let quickchartButtonEl =\n",
              "        document.querySelector('#df-20012e07-c58a-47e5-819c-0ede6e572b26 button');\n",
              "      quickchartButtonEl.style.display =\n",
              "        google.colab.kernel.accessAllowed ? 'block' : 'none';\n",
              "    })();\n",
              "  </script>\n",
              "</div>\n",
              "\n",
              "    </div>\n",
              "  </div>\n"
            ],
            "application/vnd.google.colaboratory.intrinsic+json": {
              "type": "dataframe",
              "variable_name": "DFused",
              "summary": "{\n  \"name\": \"DFused\",\n  \"rows\": 244,\n  \"fields\": [\n    {\n      \"column\": \"region\",\n      \"properties\": {\n        \"dtype\": \"category\",\n        \"num_unique_values\": 2,\n        \"samples\": [\n          \"Sidi-Bel Abbes\",\n          \"Bejaia\"\n        ],\n        \"semantic_type\": \"\",\n        \"description\": \"\"\n      }\n    },\n    {\n      \"column\": \"Temperature\",\n      \"properties\": {\n        \"dtype\": \"number\",\n        \"std\": 3,\n        \"min\": 22,\n        \"max\": 42,\n        \"num_unique_values\": 19,\n        \"samples\": [\n          29,\n          33\n        ],\n        \"semantic_type\": \"\",\n        \"description\": \"\"\n      }\n    },\n    {\n      \"column\": \" RH\",\n      \"properties\": {\n        \"dtype\": \"number\",\n        \"std\": 14,\n        \"min\": 21,\n        \"max\": 90,\n        \"num_unique_values\": 62,\n        \"samples\": [\n          83,\n          31\n        ],\n        \"semantic_type\": \"\",\n        \"description\": \"\"\n      }\n    },\n    {\n      \"column\": \" Ws\",\n      \"properties\": {\n        \"dtype\": \"number\",\n        \"std\": 2,\n        \"min\": 6,\n        \"max\": 29,\n        \"num_unique_values\": 18,\n        \"samples\": [\n          18,\n          13\n        ],\n        \"semantic_type\": \"\",\n        \"description\": \"\"\n      }\n    },\n    {\n      \"column\": \"Rain \",\n      \"properties\": {\n        \"dtype\": \"number\",\n        \"std\": 1.9994055650382752,\n        \"min\": 0.0,\n        \"max\": 16.8,\n        \"num_unique_values\": 39,\n        \"samples\": [\n          6.0,\n          4.1\n        ],\n        \"semantic_type\": \"\",\n        \"description\": \"\"\n      }\n    },\n    {\n      \"column\": \"FFMC\",\n      \"properties\": {\n        \"dtype\": \"number\",\n        \"std\": 14.337570880168094,\n        \"min\": 28.6,\n        \"max\": 96.0,\n        \"num_unique_values\": 173,\n        \"samples\": [\n          64.5,\n          72.6\n        ],\n        \"semantic_type\": \"\",\n        \"description\": \"\"\n      }\n    },\n    {\n      \"column\": \"DMC\",\n      \"properties\": {\n        \"dtype\": \"number\",\n        \"std\": 12.368038731955586,\n        \"min\": 0.7,\n        \"max\": 65.9,\n        \"num_unique_values\": 166,\n        \"samples\": [\n          11.4,\n          16.9\n        ],\n        \"semantic_type\": \"\",\n        \"description\": \"\"\n      }\n    },\n    {\n      \"column\": \"DC\",\n      \"properties\": {\n        \"dtype\": \"string\",\n        \"num_unique_values\": 198,\n        \"samples\": [\n          \"77\",\n          \"22.5\"\n        ],\n        \"semantic_type\": \"\",\n        \"description\": \"\"\n      }\n    },\n    {\n      \"column\": \"ISI\",\n      \"properties\": {\n        \"dtype\": \"number\",\n        \"std\": 4.175318097867136,\n        \"min\": 0.0,\n        \"max\": 19.0,\n        \"num_unique_values\": 106,\n        \"samples\": [\n          13.1,\n          4.8\n        ],\n        \"semantic_type\": \"\",\n        \"description\": \"\"\n      }\n    },\n    {\n      \"column\": \"BUI\",\n      \"properties\": {\n        \"dtype\": \"number\",\n        \"std\": 14.204823977055083,\n        \"min\": 1.1,\n        \"max\": 68.0,\n        \"num_unique_values\": 174,\n        \"samples\": [\n          30.6,\n          30.4\n        ],\n        \"semantic_type\": \"\",\n        \"description\": \"\"\n      }\n    },\n    {\n      \"column\": \"FWI\",\n      \"properties\": {\n        \"dtype\": \"string\",\n        \"num_unique_values\": 126,\n        \"samples\": [\n          \"1.9\",\n          \"13.9\"\n        ],\n        \"semantic_type\": \"\",\n        \"description\": \"\"\n      }\n    },\n    {\n      \"column\": \"month\",\n      \"properties\": {\n        \"dtype\": \"number\",\n        \"std\": 1,\n        \"min\": 6,\n        \"max\": 9,\n        \"num_unique_values\": 4,\n        \"samples\": [\n          7,\n          9\n        ],\n        \"semantic_type\": \"\",\n        \"description\": \"\"\n      }\n    },\n    {\n      \"column\": \"Classes  \",\n      \"properties\": {\n        \"dtype\": \"category\",\n        \"num_unique_values\": 8,\n        \"samples\": [\n          \"fire   \",\n          \"not fire \"\n        ],\n        \"semantic_type\": \"\",\n        \"description\": \"\"\n      }\n    }\n  ]\n}"
            }
          },
          "metadata": {},
          "execution_count": 45
        }
      ]
    },
    {
      "cell_type": "code",
      "source": [
        "DFused.nunique()"
      ],
      "metadata": {
        "id": "zXXmZTqtqsHP",
        "colab": {
          "base_uri": "https://localhost:8080/",
          "height": 492
        },
        "outputId": "7c35d935-32af-4219-e13d-3a57429f0fb6"
      },
      "execution_count": 46,
      "outputs": [
        {
          "output_type": "execute_result",
          "data": {
            "text/plain": [
              "region           2\n",
              "Temperature     19\n",
              " RH             62\n",
              " Ws             18\n",
              "Rain            39\n",
              "FFMC           173\n",
              "DMC            166\n",
              "DC             198\n",
              "ISI            106\n",
              "BUI            174\n",
              "FWI            126\n",
              "month            4\n",
              "Classes          8\n",
              "dtype: int64"
            ],
            "text/html": [
              "<div>\n",
              "<style scoped>\n",
              "    .dataframe tbody tr th:only-of-type {\n",
              "        vertical-align: middle;\n",
              "    }\n",
              "\n",
              "    .dataframe tbody tr th {\n",
              "        vertical-align: top;\n",
              "    }\n",
              "\n",
              "    .dataframe thead th {\n",
              "        text-align: right;\n",
              "    }\n",
              "</style>\n",
              "<table border=\"1\" class=\"dataframe\">\n",
              "  <thead>\n",
              "    <tr style=\"text-align: right;\">\n",
              "      <th></th>\n",
              "      <th>0</th>\n",
              "    </tr>\n",
              "  </thead>\n",
              "  <tbody>\n",
              "    <tr>\n",
              "      <th>region</th>\n",
              "      <td>2</td>\n",
              "    </tr>\n",
              "    <tr>\n",
              "      <th>Temperature</th>\n",
              "      <td>19</td>\n",
              "    </tr>\n",
              "    <tr>\n",
              "      <th>RH</th>\n",
              "      <td>62</td>\n",
              "    </tr>\n",
              "    <tr>\n",
              "      <th>Ws</th>\n",
              "      <td>18</td>\n",
              "    </tr>\n",
              "    <tr>\n",
              "      <th>Rain</th>\n",
              "      <td>39</td>\n",
              "    </tr>\n",
              "    <tr>\n",
              "      <th>FFMC</th>\n",
              "      <td>173</td>\n",
              "    </tr>\n",
              "    <tr>\n",
              "      <th>DMC</th>\n",
              "      <td>166</td>\n",
              "    </tr>\n",
              "    <tr>\n",
              "      <th>DC</th>\n",
              "      <td>198</td>\n",
              "    </tr>\n",
              "    <tr>\n",
              "      <th>ISI</th>\n",
              "      <td>106</td>\n",
              "    </tr>\n",
              "    <tr>\n",
              "      <th>BUI</th>\n",
              "      <td>174</td>\n",
              "    </tr>\n",
              "    <tr>\n",
              "      <th>FWI</th>\n",
              "      <td>126</td>\n",
              "    </tr>\n",
              "    <tr>\n",
              "      <th>month</th>\n",
              "      <td>4</td>\n",
              "    </tr>\n",
              "    <tr>\n",
              "      <th>Classes</th>\n",
              "      <td>8</td>\n",
              "    </tr>\n",
              "  </tbody>\n",
              "</table>\n",
              "</div><br><label><b>dtype:</b> int64</label>"
            ]
          },
          "metadata": {},
          "execution_count": 46
        }
      ]
    },
    {
      "cell_type": "code",
      "source": [
        "DFused.info()"
      ],
      "metadata": {
        "id": "aJkHYJeL6b4t",
        "colab": {
          "base_uri": "https://localhost:8080/"
        },
        "outputId": "8f62b602-8a08-464e-f36a-97f4eb8fffb9"
      },
      "execution_count": 47,
      "outputs": [
        {
          "output_type": "stream",
          "name": "stdout",
          "text": [
            "<class 'pandas.core.frame.DataFrame'>\n",
            "RangeIndex: 244 entries, 0 to 243\n",
            "Data columns (total 13 columns):\n",
            " #   Column       Non-Null Count  Dtype  \n",
            "---  ------       --------------  -----  \n",
            " 0   region       244 non-null    object \n",
            " 1   Temperature  244 non-null    int64  \n",
            " 2    RH          244 non-null    int64  \n",
            " 3    Ws          244 non-null    int64  \n",
            " 4   Rain         244 non-null    float64\n",
            " 5   FFMC         244 non-null    float64\n",
            " 6   DMC          244 non-null    float64\n",
            " 7   DC           244 non-null    object \n",
            " 8   ISI          244 non-null    float64\n",
            " 9   BUI          244 non-null    float64\n",
            " 10  FWI          244 non-null    object \n",
            " 11  month        244 non-null    int64  \n",
            " 12  Classes      243 non-null    object \n",
            "dtypes: float64(5), int64(4), object(4)\n",
            "memory usage: 24.9+ KB\n"
          ]
        }
      ]
    },
    {
      "cell_type": "code",
      "source": [
        "target = \"Rain\""
      ],
      "metadata": {
        "id": "uhX9j_EXQh1w"
      },
      "execution_count": 79,
      "outputs": []
    },
    {
      "cell_type": "markdown",
      "source": [],
      "metadata": {
        "id": "FiCYjFLgEYbv"
      }
    },
    {
      "cell_type": "code",
      "source": [
        "# Calculate the entropy categorical feature\n",
        "def cat_var_entropy(df, target, feature):\n",
        "\n",
        "    entropies = []\n",
        "    vals = df[feature].unique()\n",
        "    overall = len(df)\n",
        "    for val in vals:\n",
        "        entropy = 0  # Initialize entropy for each unique value\n",
        "        subset = df[df[feature] == val]\n",
        "        subset_size = len(df[df[feature] == val])  # Size of subset for the current value\n",
        "        weight = subset_size / overall  # Weight of the subset\n",
        "        weight = subset_size / overall  # Weight of the subset\n",
        "\n",
        "        # Only calculate entropy if the subset has elements\n",
        "        if subset_size > 0:\n",
        "            props = subset[target].value_counts(normalize=True)  # Proportion of target values\n",
        "            for prop in props:\n",
        "                if prop > 0:  # Only add to entropy if probability is non-zero\n",
        "                    entropy -= prop * math.log2(prop)\n",
        "            entropies.append(weight * entropy)  # Weighted entropy value for the subset\n",
        "\n",
        "    # Check if entropies list is empty before calculating the minimum\n",
        "    if entropies: # <----- This line was added\n",
        "        return min(entropies)  # Return the minimum entropy value"
      ],
      "metadata": {
        "id": "0IHcI_yB6sMX"
      },
      "execution_count": 98,
      "outputs": []
    },
    {
      "cell_type": "code",
      "source": [
        "# Calculate the Gini index for a categorical feature\n",
        "def cat_var_gini(df, target, feature):\n",
        "  ginis = []  # List to store Gini values\n",
        "  vals = df[feature].unique()  # Get unique values for the feature\n",
        "  overall = len(df)  # Total number of rows\n",
        "  for val in vals:\n",
        "    subset_size = len(df[df[feature] == val])  # Size of subset for the current value\n",
        "    weight = subset_size / overall  # Weight of the subset\n",
        "    props = df[df[feature] == val][target].value_counts(normalize=True)  # Get the proportion of target values\n",
        "    gini_value = 1 - np.sum(np.square(props))  # Calculate Gini for the current value\n",
        "    ginis.append(weight * gini_value)  # Append weighted Gini value to the ginis list\n",
        "  return min(ginis)  # Return the minimum Gini value"
      ],
      "metadata": {
        "id": "ddcPSBdF6sJx"
      },
      "execution_count": 50,
      "outputs": []
    },
    {
      "cell_type": "code",
      "source": [
        "def numeric_entropy(df, target, feature):\n",
        "    entropies = []  # List to store entropy values\n",
        "    splits = []  # List to store split points\n",
        "    vals = np.sort(df[feature].unique())  # Sorted unique values for the feature\n",
        "    overall = len(df)  # Total number of rows\n",
        "    for val in vals:\n",
        "        entropy = 0  # Initialize entropy for each unique value\n",
        "        # Split the data into two subsets: <= val and > val\n",
        "        left = df[df[feature] <= val][[feature, target]]\n",
        "        right = df[df[feature] > val][[feature, target]]\n",
        "\n",
        "        # Calculate the entropy for the left subset\n",
        "        props_left = left[target].value_counts(normalize=True)\n",
        "        weight_left = len(left) / overall\n",
        "        for prop in props_left:\n",
        "            if prop > 0:\n",
        "                entropy -= weight_left * prop * math.log2(prop)\n",
        "\n",
        "        # Calculate the entropy for the right subset\n",
        "        props_right = right[target].value_counts(normalize=True)\n",
        "        weight_right = len(right) / overall\n",
        "        for prop in props_right:\n",
        "            if prop > 0:\n",
        "                entropy -= weight_right * prop * math.log2(prop)\n",
        "\n",
        "        entropies.append(entropy)  # Append entropy value to the list\n",
        "        splits.append(val)  # Append split point to the list\n",
        "\n",
        "    min_entropy = np.min(entropies)  # Get the minimum entropy value\n",
        "    best_split = splits[np.argmin(entropies)]  # Find the corresponding split point\n",
        "    return min_entropy, best_split\n"
      ],
      "metadata": {
        "id": "EPreg3XI6sHK"
      },
      "execution_count": 51,
      "outputs": []
    },
    {
      "cell_type": "code",
      "source": [
        "# Calculate the Gini index for a quantitative feature\n",
        "def numeric_gini(df, target, feature):\n",
        "    df[feature] = pd.to_numeric(df[feature], errors='coerce')\n",
        "    ginis = []  # List to store Gini values\n",
        "    splits = []  # List to store split points\n",
        "    vals = np.sort(df[feature].unique())  # Sorted unique values for the feature\n",
        "    overall = len(df)  # Total number of rows\n",
        "    for val in vals:\n",
        "        gini = 0  # Initialize Gini index for each unique value\n",
        "        # Split the data into two subsets: <= val and > val\n",
        "        left = df[df[feature] <= val][[feature, target]]\n",
        "        right = df[df[feature] > val][[feature, target]]\n",
        "\n",
        "        # Calculate the Gini for the left subset\n",
        "        props_left = left[target].value_counts(normalize=True)\n",
        "        weight_left = len(left) / overall\n",
        "        gini_left = 1 - np.sum(np.square(props_left))\n",
        "\n",
        "        # Calculate the Gini for the right subset\n",
        "        props_right = right[target].value_counts(normalize=True)\n",
        "        weight_right = len(right) / overall\n",
        "        gini_right = 1 - np.sum(np.square(props_right))\n",
        "\n",
        "        # Combine Gini values and append to the list\n",
        "        gini = weight_left * gini_left + weight_right * gini_right\n",
        "        ginis.append(gini)\n",
        "        splits.append(val)\n",
        "\n",
        "    min_gini = np.min(ginis)  # Get the minimum Gini value\n",
        "    best_split = splits[np.argmin(ginis)]  # Find the corresponding split point\n",
        "    return min_gini, best_split\n",
        "\n",
        "\n",
        "def cat_var_check(df, feature):\n",
        "    return df[feature].nunique() < 8  # A feature is considered categorical if it has fewer than 8 unique values\n"
      ],
      "metadata": {
        "id": "A_FbY1NC6sEo"
      },
      "execution_count": 82,
      "outputs": []
    },
    {
      "cell_type": "code",
      "source": [
        "# Main attribute selection method function\n",
        "def attribute_selection_method(df, target, measure):\n",
        "    cat_list = []  # Store results for categorical features\n",
        "    cat_feat_list = []  # Store categorical feature names\n",
        "    quant_list = []  # Store results for quantitative features\n",
        "    quant_feat_list = []  # Store quantitative feature names\n",
        "    splits = []  # Store best split points for quantitative features\n",
        "    features = df.columns.drop(target)  # Get all features except the target\n",
        "\n",
        "    for feature in features:\n",
        "        if df[feature].dtype == 'object':  # If feature is categorical\n",
        "            if measure == 'entropy':\n",
        "                result = cat_var_entropy(df, target, feature)\n",
        "                if result is not None:\n",
        "                  cat_list.append(result)\n",
        "            elif measure == 'gini':\n",
        "                result = cat_var_gini(df, target, feature)\n",
        "            cat_list.append(result)\n",
        "            cat_feat_list.append(feature)\n",
        "        elif df[feature].dtype in ['float64', 'int64']:  # If feature is quantitative\n",
        "            if measure == 'entropy':\n",
        "                min_entropy, best_split = numeric_entropy(df, target, feature)\n",
        "                quant_list.append(min_entropy)\n",
        "                splits.append(best_split)\n",
        "            elif measure == 'gini':\n",
        "                min_gini, best_split = numeric_gini(df, target, feature)\n",
        "                quant_list.append(min_gini)\n",
        "                splits.append(best_split)\n",
        "            quant_feat_list.append(feature)\n",
        "\n",
        "    # Determine the best feature and split point\n",
        "    if cat_list and min(cat_list) <= min(quant_list):\n",
        "        return cat_feat_list[np.argmin(cat_list)]\n",
        "    else:\n",
        "        best_index = np.argmin(quant_list)\n",
        "        return quant_feat_list[best_index], splits[best_index]\n",
        "\n"
      ],
      "metadata": {
        "id": "lI9WPYUy6sCN"
      },
      "execution_count": 111,
      "outputs": []
    },
    {
      "cell_type": "code",
      "source": [
        "def mean_sq_error_cat(df, target, feature):\n",
        "    MSE = []\n",
        "    splits = []\n",
        "    vals = df[feature].unique()\n",
        "    overall = len(df)\n",
        "\n",
        "    for val in vals:\n",
        "        # Split into left (matching category) and right (not matching category) subsets\n",
        "        left = df[df[feature] == val][target]\n",
        "        right = df[df[feature] != val][target]\n",
        "\n",
        "        # Calculate MSE for left and right subsets\n",
        "        if len(left) > 0:\n",
        "            mse_left = np.mean((left - left.mean()) ** 2)\n",
        "        else:\n",
        "            mse_left = 0\n",
        "\n",
        "        if len(right) > 0:\n",
        "            mse_right = np.mean((right - right.mean()) ** 2)\n",
        "        else:\n",
        "            mse_right = 0\n",
        "\n",
        "        # Weighted average of the MSEs\n",
        "        weight_left = len(left) / overall\n",
        "        weight_right = len(right) / overall\n",
        "        mse = weight_left * mse_left + weight_right * mse_right\n",
        "\n",
        "        MSE.append(mse)\n",
        "        splits.append(val)\n",
        "\n",
        "    # Return the minimum MSE value and the best category split\n",
        "    min_mse = np.min(MSE)\n",
        "    best_split = splits[np.argmin(MSE)]\n",
        "    return min_mse, best_split"
      ],
      "metadata": {
        "id": "OGaOF_Py6r_m"
      },
      "execution_count": 54,
      "outputs": []
    },
    {
      "cell_type": "code",
      "source": [
        "# MSE for quantitative features regression\n",
        "def mean_sq_error_numeric(df, target, feature):\n",
        "    MSE = []\n",
        "    splits = []\n",
        "    vals = np.sort(df[feature].unique())\n",
        "    overall = len(df)\n",
        "\n",
        "    for val in vals:\n",
        "        # Split into left and right subsets\n",
        "        left = df[df[feature] <= val][target]\n",
        "        right = df[df[feature] > val][target]\n",
        "\n",
        "        # Calculate MSE for left and right subsets\n",
        "        if len(left) > 0:\n",
        "            mse_left = np.mean((left - left.mean()) ** 2)\n",
        "        else:\n",
        "            mse_left = 0\n",
        "\n",
        "        if len(right) > 0:\n",
        "            mse_right = np.mean((right - right.mean()) ** 2)\n",
        "        else:\n",
        "            mse_right = 0\n",
        "\n",
        "        # Weighted average of the MSEs\n",
        "        weight_left = len(left) / overall\n",
        "        weight_right = len(right) / overall\n",
        "        mse = weight_left * mse_left + weight_right * mse_right\n",
        "\n",
        "        MSE.append(mse)\n",
        "        splits.append(val)\n",
        "\n",
        "    #return the minimum mean squared errror value as well as the split at the matching index\n",
        "    min_mse = np.min(MSE)\n",
        "    best_split = splits[np.argmin(MSE)]\n",
        "    return min_mse, best_split"
      ],
      "metadata": {
        "id": "3S209LNH6r6s"
      },
      "execution_count": 55,
      "outputs": []
    },
    {
      "cell_type": "code",
      "source": [
        "mean_sq_error_cat(DFused, 'Rain ', \"Classes  \")"
      ],
      "metadata": {
        "id": "0IPYBJmG9uKZ",
        "colab": {
          "base_uri": "https://localhost:8080/"
        },
        "outputId": "28c9b3f1-eea2-4539-eaca-5c18e9444fba"
      },
      "execution_count": 56,
      "outputs": [
        {
          "output_type": "execute_result",
          "data": {
            "text/plain": [
              "(2.65049959355101, 'not fire')"
            ]
          },
          "metadata": {},
          "execution_count": 56
        }
      ]
    },
    {
      "cell_type": "code",
      "source": [
        "mean_sq_error_cat(DFused, \"Rain \", 'month')"
      ],
      "metadata": {
        "id": "J9dDtTfw9uGh",
        "colab": {
          "base_uri": "https://localhost:8080/"
        },
        "outputId": "a4d1f99f-6f27-419b-dee2-71f4b05aa874"
      },
      "execution_count": 57,
      "outputs": [
        {
          "output_type": "execute_result",
          "data": {
            "text/plain": [
              "(3.9215949602043234, 9)"
            ]
          },
          "metadata": {},
          "execution_count": 57
        }
      ]
    },
    {
      "cell_type": "code",
      "source": [
        "def reg_selection(df, target):\n",
        "    cat_list = []  # Stores results for categorical features\n",
        "    cat_feat_list = []  # Stores categorical feature names\n",
        "    quant_list = []  # Stores results for quantitative features\n",
        "    quant_feat_list = []  # Stores quantitative features\n",
        "    splits = []  # Store split points for quantitative features\n",
        "    features = df.columns.drop(target)  # Get all features except the target\n",
        "    if not pd.api.types.is_numeric_dtype(df[target]):\n",
        "        raise ValueError(f\"Target variable '{target}' is not numeric!\")\n",
        "\n",
        "    for feature in features:\n",
        "        if cat_var_check(df, feature):  # If feature is categorical\n",
        "            min_mse, _ = mean_sq_error_cat(df, target, feature)\n",
        "            cat_list.append(min_mse)\n",
        "            cat_feat_list.append(feature)\n",
        "\n",
        "        elif not cat_var_check(df, feature):  # If feature is quantitative\n",
        "            min_mse, best_split = mean_sq_error_numeric(df, target, feature)\n",
        "            quant_list.append(min_mse)\n",
        "            quant_feat_list.append(feature)\n",
        "            splits.append(best_split)\n",
        "\n",
        "\n",
        "     # Determine the best feature and split point\n",
        "    if cat_list and min(cat_list) <= min(quant_list):\n",
        "        return cat_feat_list[np.argmin(cat_list)]\n",
        "    else:\n",
        "        best_index = np.argmin(quant_list)\n",
        "        return quant_feat_list[best_index], quant_list[best_index], splits[best_index]"
      ],
      "metadata": {
        "id": "0bNcjZKRDuf3"
      },
      "execution_count": 119,
      "outputs": []
    },
    {
      "cell_type": "code",
      "source": [
        "DFused.head()"
      ],
      "metadata": {
        "id": "VIEJj-hHElgT",
        "colab": {
          "base_uri": "https://localhost:8080/",
          "height": 206
        },
        "outputId": "1ebf188d-9668-4fde-ce58-3e1fce27375c"
      },
      "execution_count": 59,
      "outputs": [
        {
          "output_type": "execute_result",
          "data": {
            "text/plain": [
              "   region  Temperature   RH   Ws  Rain   FFMC  DMC    DC  ISI  BUI  FWI  \\\n",
              "0  Bejaia           29   57   18    0.0  65.7  3.4   7.6  1.3  3.4  0.5   \n",
              "1  Bejaia           29   61   13    1.3  64.4  4.1   7.6  1.0  3.9  0.4   \n",
              "2  Bejaia           26   82   22   13.1  47.1  2.5   7.1  0.3  2.7  0.1   \n",
              "3  Bejaia           25   89   13    2.5  28.6  1.3   6.9  0.0  1.7    0   \n",
              "4  Bejaia           27   77   16    0.0  64.8  3.0  14.2  1.2  3.9  0.5   \n",
              "\n",
              "   month    Classes    \n",
              "0      6  not fire     \n",
              "1      6  not fire     \n",
              "2      6  not fire     \n",
              "3      6  not fire     \n",
              "4      6  not fire     "
            ],
            "text/html": [
              "\n",
              "  <div id=\"df-fe4cd818-b506-4d90-894f-ed09a84100d9\" class=\"colab-df-container\">\n",
              "    <div>\n",
              "<style scoped>\n",
              "    .dataframe tbody tr th:only-of-type {\n",
              "        vertical-align: middle;\n",
              "    }\n",
              "\n",
              "    .dataframe tbody tr th {\n",
              "        vertical-align: top;\n",
              "    }\n",
              "\n",
              "    .dataframe thead th {\n",
              "        text-align: right;\n",
              "    }\n",
              "</style>\n",
              "<table border=\"1\" class=\"dataframe\">\n",
              "  <thead>\n",
              "    <tr style=\"text-align: right;\">\n",
              "      <th></th>\n",
              "      <th>region</th>\n",
              "      <th>Temperature</th>\n",
              "      <th>RH</th>\n",
              "      <th>Ws</th>\n",
              "      <th>Rain</th>\n",
              "      <th>FFMC</th>\n",
              "      <th>DMC</th>\n",
              "      <th>DC</th>\n",
              "      <th>ISI</th>\n",
              "      <th>BUI</th>\n",
              "      <th>FWI</th>\n",
              "      <th>month</th>\n",
              "      <th>Classes</th>\n",
              "    </tr>\n",
              "  </thead>\n",
              "  <tbody>\n",
              "    <tr>\n",
              "      <th>0</th>\n",
              "      <td>Bejaia</td>\n",
              "      <td>29</td>\n",
              "      <td>57</td>\n",
              "      <td>18</td>\n",
              "      <td>0.0</td>\n",
              "      <td>65.7</td>\n",
              "      <td>3.4</td>\n",
              "      <td>7.6</td>\n",
              "      <td>1.3</td>\n",
              "      <td>3.4</td>\n",
              "      <td>0.5</td>\n",
              "      <td>6</td>\n",
              "      <td>not fire</td>\n",
              "    </tr>\n",
              "    <tr>\n",
              "      <th>1</th>\n",
              "      <td>Bejaia</td>\n",
              "      <td>29</td>\n",
              "      <td>61</td>\n",
              "      <td>13</td>\n",
              "      <td>1.3</td>\n",
              "      <td>64.4</td>\n",
              "      <td>4.1</td>\n",
              "      <td>7.6</td>\n",
              "      <td>1.0</td>\n",
              "      <td>3.9</td>\n",
              "      <td>0.4</td>\n",
              "      <td>6</td>\n",
              "      <td>not fire</td>\n",
              "    </tr>\n",
              "    <tr>\n",
              "      <th>2</th>\n",
              "      <td>Bejaia</td>\n",
              "      <td>26</td>\n",
              "      <td>82</td>\n",
              "      <td>22</td>\n",
              "      <td>13.1</td>\n",
              "      <td>47.1</td>\n",
              "      <td>2.5</td>\n",
              "      <td>7.1</td>\n",
              "      <td>0.3</td>\n",
              "      <td>2.7</td>\n",
              "      <td>0.1</td>\n",
              "      <td>6</td>\n",
              "      <td>not fire</td>\n",
              "    </tr>\n",
              "    <tr>\n",
              "      <th>3</th>\n",
              "      <td>Bejaia</td>\n",
              "      <td>25</td>\n",
              "      <td>89</td>\n",
              "      <td>13</td>\n",
              "      <td>2.5</td>\n",
              "      <td>28.6</td>\n",
              "      <td>1.3</td>\n",
              "      <td>6.9</td>\n",
              "      <td>0.0</td>\n",
              "      <td>1.7</td>\n",
              "      <td>0</td>\n",
              "      <td>6</td>\n",
              "      <td>not fire</td>\n",
              "    </tr>\n",
              "    <tr>\n",
              "      <th>4</th>\n",
              "      <td>Bejaia</td>\n",
              "      <td>27</td>\n",
              "      <td>77</td>\n",
              "      <td>16</td>\n",
              "      <td>0.0</td>\n",
              "      <td>64.8</td>\n",
              "      <td>3.0</td>\n",
              "      <td>14.2</td>\n",
              "      <td>1.2</td>\n",
              "      <td>3.9</td>\n",
              "      <td>0.5</td>\n",
              "      <td>6</td>\n",
              "      <td>not fire</td>\n",
              "    </tr>\n",
              "  </tbody>\n",
              "</table>\n",
              "</div>\n",
              "    <div class=\"colab-df-buttons\">\n",
              "\n",
              "  <div class=\"colab-df-container\">\n",
              "    <button class=\"colab-df-convert\" onclick=\"convertToInteractive('df-fe4cd818-b506-4d90-894f-ed09a84100d9')\"\n",
              "            title=\"Convert this dataframe to an interactive table.\"\n",
              "            style=\"display:none;\">\n",
              "\n",
              "  <svg xmlns=\"http://www.w3.org/2000/svg\" height=\"24px\" viewBox=\"0 -960 960 960\">\n",
              "    <path d=\"M120-120v-720h720v720H120Zm60-500h600v-160H180v160Zm220 220h160v-160H400v160Zm0 220h160v-160H400v160ZM180-400h160v-160H180v160Zm440 0h160v-160H620v160ZM180-180h160v-160H180v160Zm440 0h160v-160H620v160Z\"/>\n",
              "  </svg>\n",
              "    </button>\n",
              "\n",
              "  <style>\n",
              "    .colab-df-container {\n",
              "      display:flex;\n",
              "      gap: 12px;\n",
              "    }\n",
              "\n",
              "    .colab-df-convert {\n",
              "      background-color: #E8F0FE;\n",
              "      border: none;\n",
              "      border-radius: 50%;\n",
              "      cursor: pointer;\n",
              "      display: none;\n",
              "      fill: #1967D2;\n",
              "      height: 32px;\n",
              "      padding: 0 0 0 0;\n",
              "      width: 32px;\n",
              "    }\n",
              "\n",
              "    .colab-df-convert:hover {\n",
              "      background-color: #E2EBFA;\n",
              "      box-shadow: 0px 1px 2px rgba(60, 64, 67, 0.3), 0px 1px 3px 1px rgba(60, 64, 67, 0.15);\n",
              "      fill: #174EA6;\n",
              "    }\n",
              "\n",
              "    .colab-df-buttons div {\n",
              "      margin-bottom: 4px;\n",
              "    }\n",
              "\n",
              "    [theme=dark] .colab-df-convert {\n",
              "      background-color: #3B4455;\n",
              "      fill: #D2E3FC;\n",
              "    }\n",
              "\n",
              "    [theme=dark] .colab-df-convert:hover {\n",
              "      background-color: #434B5C;\n",
              "      box-shadow: 0px 1px 3px 1px rgba(0, 0, 0, 0.15);\n",
              "      filter: drop-shadow(0px 1px 2px rgba(0, 0, 0, 0.3));\n",
              "      fill: #FFFFFF;\n",
              "    }\n",
              "  </style>\n",
              "\n",
              "    <script>\n",
              "      const buttonEl =\n",
              "        document.querySelector('#df-fe4cd818-b506-4d90-894f-ed09a84100d9 button.colab-df-convert');\n",
              "      buttonEl.style.display =\n",
              "        google.colab.kernel.accessAllowed ? 'block' : 'none';\n",
              "\n",
              "      async function convertToInteractive(key) {\n",
              "        const element = document.querySelector('#df-fe4cd818-b506-4d90-894f-ed09a84100d9');\n",
              "        const dataTable =\n",
              "          await google.colab.kernel.invokeFunction('convertToInteractive',\n",
              "                                                    [key], {});\n",
              "        if (!dataTable) return;\n",
              "\n",
              "        const docLinkHtml = 'Like what you see? Visit the ' +\n",
              "          '<a target=\"_blank\" href=https://colab.research.google.com/notebooks/data_table.ipynb>data table notebook</a>'\n",
              "          + ' to learn more about interactive tables.';\n",
              "        element.innerHTML = '';\n",
              "        dataTable['output_type'] = 'display_data';\n",
              "        await google.colab.output.renderOutput(dataTable, element);\n",
              "        const docLink = document.createElement('div');\n",
              "        docLink.innerHTML = docLinkHtml;\n",
              "        element.appendChild(docLink);\n",
              "      }\n",
              "    </script>\n",
              "  </div>\n",
              "\n",
              "\n",
              "<div id=\"df-ebe53a57-7017-418c-87c5-946a781986f9\">\n",
              "  <button class=\"colab-df-quickchart\" onclick=\"quickchart('df-ebe53a57-7017-418c-87c5-946a781986f9')\"\n",
              "            title=\"Suggest charts\"\n",
              "            style=\"display:none;\">\n",
              "\n",
              "<svg xmlns=\"http://www.w3.org/2000/svg\" height=\"24px\"viewBox=\"0 0 24 24\"\n",
              "     width=\"24px\">\n",
              "    <g>\n",
              "        <path d=\"M19 3H5c-1.1 0-2 .9-2 2v14c0 1.1.9 2 2 2h14c1.1 0 2-.9 2-2V5c0-1.1-.9-2-2-2zM9 17H7v-7h2v7zm4 0h-2V7h2v10zm4 0h-2v-4h2v4z\"/>\n",
              "    </g>\n",
              "</svg>\n",
              "  </button>\n",
              "\n",
              "<style>\n",
              "  .colab-df-quickchart {\n",
              "      --bg-color: #E8F0FE;\n",
              "      --fill-color: #1967D2;\n",
              "      --hover-bg-color: #E2EBFA;\n",
              "      --hover-fill-color: #174EA6;\n",
              "      --disabled-fill-color: #AAA;\n",
              "      --disabled-bg-color: #DDD;\n",
              "  }\n",
              "\n",
              "  [theme=dark] .colab-df-quickchart {\n",
              "      --bg-color: #3B4455;\n",
              "      --fill-color: #D2E3FC;\n",
              "      --hover-bg-color: #434B5C;\n",
              "      --hover-fill-color: #FFFFFF;\n",
              "      --disabled-bg-color: #3B4455;\n",
              "      --disabled-fill-color: #666;\n",
              "  }\n",
              "\n",
              "  .colab-df-quickchart {\n",
              "    background-color: var(--bg-color);\n",
              "    border: none;\n",
              "    border-radius: 50%;\n",
              "    cursor: pointer;\n",
              "    display: none;\n",
              "    fill: var(--fill-color);\n",
              "    height: 32px;\n",
              "    padding: 0;\n",
              "    width: 32px;\n",
              "  }\n",
              "\n",
              "  .colab-df-quickchart:hover {\n",
              "    background-color: var(--hover-bg-color);\n",
              "    box-shadow: 0 1px 2px rgba(60, 64, 67, 0.3), 0 1px 3px 1px rgba(60, 64, 67, 0.15);\n",
              "    fill: var(--button-hover-fill-color);\n",
              "  }\n",
              "\n",
              "  .colab-df-quickchart-complete:disabled,\n",
              "  .colab-df-quickchart-complete:disabled:hover {\n",
              "    background-color: var(--disabled-bg-color);\n",
              "    fill: var(--disabled-fill-color);\n",
              "    box-shadow: none;\n",
              "  }\n",
              "\n",
              "  .colab-df-spinner {\n",
              "    border: 2px solid var(--fill-color);\n",
              "    border-color: transparent;\n",
              "    border-bottom-color: var(--fill-color);\n",
              "    animation:\n",
              "      spin 1s steps(1) infinite;\n",
              "  }\n",
              "\n",
              "  @keyframes spin {\n",
              "    0% {\n",
              "      border-color: transparent;\n",
              "      border-bottom-color: var(--fill-color);\n",
              "      border-left-color: var(--fill-color);\n",
              "    }\n",
              "    20% {\n",
              "      border-color: transparent;\n",
              "      border-left-color: var(--fill-color);\n",
              "      border-top-color: var(--fill-color);\n",
              "    }\n",
              "    30% {\n",
              "      border-color: transparent;\n",
              "      border-left-color: var(--fill-color);\n",
              "      border-top-color: var(--fill-color);\n",
              "      border-right-color: var(--fill-color);\n",
              "    }\n",
              "    40% {\n",
              "      border-color: transparent;\n",
              "      border-right-color: var(--fill-color);\n",
              "      border-top-color: var(--fill-color);\n",
              "    }\n",
              "    60% {\n",
              "      border-color: transparent;\n",
              "      border-right-color: var(--fill-color);\n",
              "    }\n",
              "    80% {\n",
              "      border-color: transparent;\n",
              "      border-right-color: var(--fill-color);\n",
              "      border-bottom-color: var(--fill-color);\n",
              "    }\n",
              "    90% {\n",
              "      border-color: transparent;\n",
              "      border-bottom-color: var(--fill-color);\n",
              "    }\n",
              "  }\n",
              "</style>\n",
              "\n",
              "  <script>\n",
              "    async function quickchart(key) {\n",
              "      const quickchartButtonEl =\n",
              "        document.querySelector('#' + key + ' button');\n",
              "      quickchartButtonEl.disabled = true;  // To prevent multiple clicks.\n",
              "      quickchartButtonEl.classList.add('colab-df-spinner');\n",
              "      try {\n",
              "        const charts = await google.colab.kernel.invokeFunction(\n",
              "            'suggestCharts', [key], {});\n",
              "      } catch (error) {\n",
              "        console.error('Error during call to suggestCharts:', error);\n",
              "      }\n",
              "      quickchartButtonEl.classList.remove('colab-df-spinner');\n",
              "      quickchartButtonEl.classList.add('colab-df-quickchart-complete');\n",
              "    }\n",
              "    (() => {\n",
              "      let quickchartButtonEl =\n",
              "        document.querySelector('#df-ebe53a57-7017-418c-87c5-946a781986f9 button');\n",
              "      quickchartButtonEl.style.display =\n",
              "        google.colab.kernel.accessAllowed ? 'block' : 'none';\n",
              "    })();\n",
              "  </script>\n",
              "</div>\n",
              "\n",
              "    </div>\n",
              "  </div>\n"
            ],
            "application/vnd.google.colaboratory.intrinsic+json": {
              "type": "dataframe",
              "variable_name": "DFused",
              "summary": "{\n  \"name\": \"DFused\",\n  \"rows\": 244,\n  \"fields\": [\n    {\n      \"column\": \"region\",\n      \"properties\": {\n        \"dtype\": \"category\",\n        \"num_unique_values\": 2,\n        \"samples\": [\n          \"Sidi-Bel Abbes\",\n          \"Bejaia\"\n        ],\n        \"semantic_type\": \"\",\n        \"description\": \"\"\n      }\n    },\n    {\n      \"column\": \"Temperature\",\n      \"properties\": {\n        \"dtype\": \"number\",\n        \"std\": 3,\n        \"min\": 22,\n        \"max\": 42,\n        \"num_unique_values\": 19,\n        \"samples\": [\n          29,\n          33\n        ],\n        \"semantic_type\": \"\",\n        \"description\": \"\"\n      }\n    },\n    {\n      \"column\": \" RH\",\n      \"properties\": {\n        \"dtype\": \"number\",\n        \"std\": 14,\n        \"min\": 21,\n        \"max\": 90,\n        \"num_unique_values\": 62,\n        \"samples\": [\n          83,\n          31\n        ],\n        \"semantic_type\": \"\",\n        \"description\": \"\"\n      }\n    },\n    {\n      \"column\": \" Ws\",\n      \"properties\": {\n        \"dtype\": \"number\",\n        \"std\": 2,\n        \"min\": 6,\n        \"max\": 29,\n        \"num_unique_values\": 18,\n        \"samples\": [\n          18,\n          13\n        ],\n        \"semantic_type\": \"\",\n        \"description\": \"\"\n      }\n    },\n    {\n      \"column\": \"Rain \",\n      \"properties\": {\n        \"dtype\": \"number\",\n        \"std\": 1.9994055650382752,\n        \"min\": 0.0,\n        \"max\": 16.8,\n        \"num_unique_values\": 39,\n        \"samples\": [\n          6.0,\n          4.1\n        ],\n        \"semantic_type\": \"\",\n        \"description\": \"\"\n      }\n    },\n    {\n      \"column\": \"FFMC\",\n      \"properties\": {\n        \"dtype\": \"number\",\n        \"std\": 14.337570880168094,\n        \"min\": 28.6,\n        \"max\": 96.0,\n        \"num_unique_values\": 173,\n        \"samples\": [\n          64.5,\n          72.6\n        ],\n        \"semantic_type\": \"\",\n        \"description\": \"\"\n      }\n    },\n    {\n      \"column\": \"DMC\",\n      \"properties\": {\n        \"dtype\": \"number\",\n        \"std\": 12.368038731955586,\n        \"min\": 0.7,\n        \"max\": 65.9,\n        \"num_unique_values\": 166,\n        \"samples\": [\n          11.4,\n          16.9\n        ],\n        \"semantic_type\": \"\",\n        \"description\": \"\"\n      }\n    },\n    {\n      \"column\": \"DC\",\n      \"properties\": {\n        \"dtype\": \"string\",\n        \"num_unique_values\": 198,\n        \"samples\": [\n          \"77\",\n          \"22.5\"\n        ],\n        \"semantic_type\": \"\",\n        \"description\": \"\"\n      }\n    },\n    {\n      \"column\": \"ISI\",\n      \"properties\": {\n        \"dtype\": \"number\",\n        \"std\": 4.175318097867136,\n        \"min\": 0.0,\n        \"max\": 19.0,\n        \"num_unique_values\": 106,\n        \"samples\": [\n          13.1,\n          4.8\n        ],\n        \"semantic_type\": \"\",\n        \"description\": \"\"\n      }\n    },\n    {\n      \"column\": \"BUI\",\n      \"properties\": {\n        \"dtype\": \"number\",\n        \"std\": 14.204823977055083,\n        \"min\": 1.1,\n        \"max\": 68.0,\n        \"num_unique_values\": 174,\n        \"samples\": [\n          30.6,\n          30.4\n        ],\n        \"semantic_type\": \"\",\n        \"description\": \"\"\n      }\n    },\n    {\n      \"column\": \"FWI\",\n      \"properties\": {\n        \"dtype\": \"string\",\n        \"num_unique_values\": 126,\n        \"samples\": [\n          \"1.9\",\n          \"13.9\"\n        ],\n        \"semantic_type\": \"\",\n        \"description\": \"\"\n      }\n    },\n    {\n      \"column\": \"month\",\n      \"properties\": {\n        \"dtype\": \"number\",\n        \"std\": 1,\n        \"min\": 6,\n        \"max\": 9,\n        \"num_unique_values\": 4,\n        \"samples\": [\n          7,\n          9\n        ],\n        \"semantic_type\": \"\",\n        \"description\": \"\"\n      }\n    },\n    {\n      \"column\": \"Classes  \",\n      \"properties\": {\n        \"dtype\": \"category\",\n        \"num_unique_values\": 8,\n        \"samples\": [\n          \"fire   \",\n          \"not fire \"\n        ],\n        \"semantic_type\": \"\",\n        \"description\": \"\"\n      }\n    }\n  ]\n}"
            }
          },
          "metadata": {},
          "execution_count": 59
        }
      ]
    },
    {
      "cell_type": "code",
      "source": [
        "def attribute_selection_method1(df, target, task, measure=None):\n",
        "    if task.lower() == 'classification':\n",
        "        return attribute_selection_method(df, target, measure)\n",
        "    elif task.lower() == 'regression':\n",
        "        return reg_selection(df, target)\n",
        "    else:\n",
        "        raise ValueError(\"Invalid task. Must be 'classification' or 'regression'.\")"
      ],
      "metadata": {
        "id": "s4VhnQBXDuY7"
      },
      "execution_count": 60,
      "outputs": []
    },
    {
      "cell_type": "code",
      "source": [
        "from sklearn.model_selection import train_test_split\n",
        "train_set, test_set = train_test_split(DFused, test_size=0.2)\n",
        "\n",
        "X_train = train_set[['region', 'Temperature', ' RH',\"Rain \", ' Ws',  'FFMC', 'DMC', 'DC', 'ISI', 'BUI', 'FWI', 'month']]\n",
        "y_train = train_set['Temperature']\n",
        "X_test = test_set[['region', 'Temperature', ' RH',\"Rain \", ' Ws',  'FFMC', 'DMC', 'DC', 'ISI', 'BUI', 'FWI', 'month']]\n",
        "y_test = test_set['Temperature']"
      ],
      "metadata": {
        "id": "znHhHw1YDuUa"
      },
      "execution_count": 61,
      "outputs": []
    },
    {
      "cell_type": "code",
      "source": [
        "import pandas as pd\n",
        "from sklearn.tree import DecisionTreeRegressor\n",
        "from sklearn.preprocessing import StandardScaler, OneHotEncoder\n",
        "from sklearn.pipeline import Pipeline\n",
        "from sklearn.compose import ColumnTransformer\n",
        "from sklearn.model_selection import cross_val_score\n",
        "from sklearn.tree import plot_tree\n",
        "from sklearn.impute import SimpleImputer\n",
        "from sklearn.preprocessing import LabelEncoder\n",
        "from sklearn.tree import DecisionTreeClassifier"
      ],
      "metadata": {
        "id": "nyaawvBQHzMg"
      },
      "execution_count": 62,
      "outputs": []
    },
    {
      "cell_type": "code",
      "source": [
        "X_train.info()"
      ],
      "metadata": {
        "id": "9N_NlizBDuSE",
        "colab": {
          "base_uri": "https://localhost:8080/"
        },
        "outputId": "80678ddb-ba72-48ff-81c3-f3f7633e23ef"
      },
      "execution_count": 63,
      "outputs": [
        {
          "output_type": "stream",
          "name": "stdout",
          "text": [
            "<class 'pandas.core.frame.DataFrame'>\n",
            "Index: 195 entries, 2 to 3\n",
            "Data columns (total 12 columns):\n",
            " #   Column       Non-Null Count  Dtype  \n",
            "---  ------       --------------  -----  \n",
            " 0   region       195 non-null    object \n",
            " 1   Temperature  195 non-null    int64  \n",
            " 2    RH          195 non-null    int64  \n",
            " 3   Rain         195 non-null    float64\n",
            " 4    Ws          195 non-null    int64  \n",
            " 5   FFMC         195 non-null    float64\n",
            " 6   DMC          195 non-null    float64\n",
            " 7   DC           195 non-null    object \n",
            " 8   ISI          195 non-null    float64\n",
            " 9   BUI          195 non-null    float64\n",
            " 10  FWI          195 non-null    object \n",
            " 11  month        195 non-null    int64  \n",
            "dtypes: float64(5), int64(4), object(3)\n",
            "memory usage: 19.8+ KB\n"
          ]
        }
      ]
    },
    {
      "cell_type": "code",
      "source": [
        "num_attributes = X_train.select_dtypes(include = ['float64']).columns\n",
        "cat_attributes = X_train.select_dtypes(include = ['object']).columns\n",
        "\n",
        "trf = [ ('num', StandardScaler(), num_attributes),\n",
        "       ('cat', OneHotEncoder( handle_unknown='ignore'), cat_attributes) ]\n",
        "col_transform = ColumnTransformer( transformers = trf )\n",
        "reg_pipeline = Pipeline( steps = [('pre', col_transform),\n",
        " ('clf', DecisionTreeRegressor(max_depth=3))])"
      ],
      "metadata": {
        "id": "UfQIzIeaDuPi"
      },
      "execution_count": 64,
      "outputs": []
    },
    {
      "cell_type": "code",
      "source": [
        "import pandas as pd\n",
        "from sklearn.tree import DecisionTreeRegressor\n",
        "from sklearn.preprocessing import StandardScaler, OneHotEncoder\n",
        "from sklearn.pipeline import Pipeline\n",
        "from sklearn.compose import ColumnTransformer\n",
        "from sklearn.model_selection import cross_val_score\n",
        "from sklearn.tree import plot_tree\n",
        "from sklearn.impute import SimpleImputer\n",
        "from sklearn.preprocessing import LabelEncoder\n",
        "\n",
        "# Modify the pipeline to include imputation and encoding\n",
        "num_attributes = X_train.select_dtypes(include=['float64']).columns\n",
        "cat_attributes = X_train.select_dtypes(include=['object']).columns\n",
        "\n",
        "# Create pipelines for numerical and categorical features\n",
        "num_pipeline = Pipeline([\n",
        "    ('imputer', SimpleImputer(strategy='median')),  # Impute missing numerical values with the median\n",
        "    ('std_scaler', StandardScaler()),\n",
        "])\n",
        "\n",
        "cat_pipeline = Pipeline([\n",
        "    ('imputer', SimpleImputer(strategy='most_frequent')),  # Impute missing categorical values\n",
        "    ('one_hot', OneHotEncoder(handle_unknown='ignore')),\n",
        "])\n",
        "\n",
        "# Combine pipelines\n",
        "preprocessor = ColumnTransformer(\n",
        "    transformers=[\n",
        "        ('num', num_pipeline, num_attributes),\n",
        "        ('cat', cat_pipeline, cat_attributes),\n",
        "    ])\n",
        "\n",
        "# Encode the target variable\n",
        "label_encoder = LabelEncoder()\n",
        "# Fit on both train/test data\n",
        "label_encoder.fit(pd.concat([y_train, y_test]))\n",
        "y_train_encoded = label_encoder.transform(y_train)\n",
        "y_test_encoded = label_encoder.transform(y_test)\n",
        "y_train = y_train.fillna(y_train.mode()[0])\n",
        "\n",
        "# Creates final pipeline\n",
        "reg_pipeline = Pipeline(steps=[\n",
        "    ('preprocessor', preprocessor),\n",
        "    ('regressor', DecisionTreeRegressor(max_depth=3)),\n",
        "])\n",
        "\n",
        "# Perform cross-validation\n",
        "cv_scores = cross_val_score(reg_pipeline, X_train, y_train_encoded, cv=5, scoring='neg_mean_squared_error')  # Use encoded y_train\n",
        "cv_scores"
      ],
      "metadata": {
        "id": "EXRX-7tzJKQx",
        "colab": {
          "base_uri": "https://localhost:8080/"
        },
        "outputId": "99284773-44e9-4c62-db60-c7d16a7fe0de"
      },
      "execution_count": 65,
      "outputs": [
        {
          "output_type": "execute_result",
          "data": {
            "text/plain": [
              "array([ -6.8863874 , -10.62587965,  -6.41325407,  -7.03200163,\n",
              "        -8.21085864])"
            ]
          },
          "metadata": {},
          "execution_count": 65
        }
      ]
    },
    {
      "cell_type": "code",
      "source": [
        "\n",
        "class_pipeline = Pipeline( steps = [('pre', col_transform),\n",
        " ('clf', DecisionTreeClassifier(max_depth=3))])"
      ],
      "metadata": {
        "id": "TSMTRG_rvFvz"
      },
      "execution_count": 66,
      "outputs": []
    },
    {
      "cell_type": "code",
      "source": [
        "mse_scores = cv_scores * -1\n",
        "mse_scores"
      ],
      "metadata": {
        "id": "UR_HAOuJIgPh",
        "colab": {
          "base_uri": "https://localhost:8080/"
        },
        "outputId": "d40aa35e-e6e0-43d4-924f-1140c6631fe3"
      },
      "execution_count": 67,
      "outputs": [
        {
          "output_type": "execute_result",
          "data": {
            "text/plain": [
              "array([ 6.8863874 , 10.62587965,  6.41325407,  7.03200163,  8.21085864])"
            ]
          },
          "metadata": {},
          "execution_count": 67
        }
      ]
    },
    {
      "cell_type": "code",
      "source": [
        "reg_pipeline.fit(X_train, y_train)\n",
        "reg_predictions = reg_pipeline.predict(X_test)"
      ],
      "metadata": {
        "id": "_JUFZadNIgM7"
      },
      "execution_count": 68,
      "outputs": []
    },
    {
      "cell_type": "code",
      "source": [
        "plot_tree(reg_pipeline.named_steps['regressor'])"
      ],
      "metadata": {
        "id": "UDuYEvQnIgIr",
        "colab": {
          "base_uri": "https://localhost:8080/",
          "height": 710
        },
        "outputId": "6708982f-76ae-437d-e110-aa59e5b89988"
      },
      "execution_count": 69,
      "outputs": [
        {
          "output_type": "execute_result",
          "data": {
            "text/plain": [
              "[Text(0.5, 0.875, 'x[1] <= -0.231\\nsquared_error = 13.171\\nsamples = 195\\nvalue = 32.056'),\n",
              " Text(0.25, 0.625, 'x[1] <= -1.527\\nsquared_error = 7.826\\nsamples = 61\\nvalue = 28.902'),\n",
              " Text(0.375, 0.75, 'True  '),\n",
              " Text(0.125, 0.375, 'x[114] <= 0.5\\nsquared_error = 4.981\\nsamples = 19\\nvalue = 26.421'),\n",
              " Text(0.0625, 0.125, 'squared_error = 2.997\\nsamples = 17\\nvalue = 26.941'),\n",
              " Text(0.1875, 0.125, 'squared_error = 0.0\\nsamples = 2\\nvalue = 22.0'),\n",
              " Text(0.375, 0.375, 'x[0] <= -0.091\\nsquared_error = 5.071\\nsamples = 42\\nvalue = 30.024'),\n",
              " Text(0.3125, 0.125, 'squared_error = 2.796\\nsamples = 17\\nvalue = 28.706'),\n",
              " Text(0.4375, 0.125, 'squared_error = 4.634\\nsamples = 25\\nvalue = 30.92'),\n",
              " Text(0.75, 0.625, 'x[1] <= 0.821\\nsquared_error = 9.011\\nsamples = 134\\nvalue = 33.493'),\n",
              " Text(0.625, 0.75, '  False'),\n",
              " Text(0.625, 0.375, 'x[0] <= -0.327\\nsquared_error = 7.24\\nsamples = 104\\nvalue = 32.76'),\n",
              " Text(0.5625, 0.125, 'squared_error = 6.706\\nsamples = 77\\nvalue = 32.091'),\n",
              " Text(0.6875, 0.125, 'squared_error = 3.852\\nsamples = 27\\nvalue = 34.667'),\n",
              " Text(0.875, 0.375, 'x[3] <= 2.37\\nsquared_error = 6.832\\nsamples = 30\\nvalue = 36.033'),\n",
              " Text(0.8125, 0.125, 'squared_error = 5.04\\nsamples = 23\\nvalue = 35.217'),\n",
              " Text(0.9375, 0.125, 'squared_error = 3.347\\nsamples = 7\\nvalue = 38.714')]"
            ]
          },
          "metadata": {},
          "execution_count": 69
        },
        {
          "output_type": "display_data",
          "data": {
            "text/plain": [
              "<Figure size 640x480 with 1 Axes>"
            ],
            "image/png": "[encoded data removed]"
          },
          "metadata": {}
        }
      ]
    },
    {
      "cell_type": "code",
      "source": [
        "class_pipeline.fit(X_train, y_train)\n",
        "class_predictions = class_pipeline.predict(X_test)"
      ],
      "metadata": {
        "id": "m0kfB70EIgK1"
      },
      "execution_count": 70,
      "outputs": []
    },
    {
      "cell_type": "code",
      "source": [
        "plot_tree(class_pipeline.named_steps['clf'])"
      ],
      "metadata": {
        "id": "TeZZOzS1IgGW",
        "colab": {
          "base_uri": "https://localhost:8080/",
          "height": 924
        },
        "outputId": "637faa23-b68d-48c8-929f-4be12e316b0c"
      },
      "execution_count": 71,
      "outputs": [
        {
          "output_type": "execute_result",
          "data": {
            "text/plain": [
              "[Text(0.4583333333333333, 0.875, 'x[1] <= -0.231\\ngini = 0.917\\nsamples = 195\\nvalue = [2.0, 3.0, 4.0, 4.0, 7.0, 12.0, 13.0, 20.0, 22.0\\n15.0, 20.0, 18.0, 25.0, 15.0, 4.0, 2.0, 6.0, 2.0\\n1.0]'),\n",
              " Text(0.25, 0.625, 'x[119] <= 0.5\\ngini = 0.885\\nsamples = 61\\nvalue = [2, 2, 4, 3, 5, 9, 10, 12, 3, 4, 4, 2, 1, 0\\n0, 0, 0, 0, 0]'),\n",
              " Text(0.35416666666666663, 0.75, 'True  '),\n",
              " Text(0.16666666666666666, 0.375, 'x[118] <= 0.5\\ngini = 0.888\\nsamples = 57\\nvalue = [2, 2, 4, 3, 5, 9, 6, 12, 3, 4, 4, 2, 1, 0\\n0, 0, 0, 0, 0]'),\n",
              " Text(0.08333333333333333, 0.125, 'gini = 0.88\\nsamples = 54\\nvalue = [2, 2, 1, 3, 5, 9, 6, 12, 3, 4, 4, 2, 1, 0\\n0, 0, 0, 0, 0]'),\n",
              " Text(0.25, 0.125, 'gini = 0.0\\nsamples = 3\\nvalue = [0, 0, 3, 0, 0, 0, 0, 0, 0, 0, 0, 0, 0, 0\\n0, 0, 0, 0, 0]'),\n",
              " Text(0.3333333333333333, 0.375, 'gini = 0.0\\nsamples = 4\\nvalue = [0, 0, 0, 0, 0, 0, 4, 0, 0, 0, 0, 0, 0, 0\\n0, 0, 0, 0, 0]'),\n",
              " Text(0.6666666666666666, 0.625, 'x[3] <= 0.736\\ngini = 0.892\\nsamples = 134\\nvalue = [0, 1, 0, 1, 2, 3, 3, 8, 19, 11, 16, 16, 24\\n15, 4, 2, 6, 2, 1]'),\n",
              " Text(0.5625, 0.75, '  False'),\n",
              " Text(0.5, 0.375, 'x[0] <= -0.327\\ngini = 0.866\\nsamples = 94\\nvalue = [0.0, 1.0, 0.0, 1.0, 1.0, 3.0, 2.0, 7.0, 18.0, 10.0\\n14.0, 8.0, 20.0, 5.0, 1.0, 1.0, 2.0, 0.0, 0.0]'),\n",
              " Text(0.4166666666666667, 0.125, 'gini = 0.856\\nsamples = 67\\nvalue = [0, 1, 0, 1, 1, 3, 2, 7, 17, 6, 12, 5, 9, 2\\n1, 0, 0, 0, 0]'),\n",
              " Text(0.5833333333333334, 0.125, 'gini = 0.774\\nsamples = 27\\nvalue = [0, 0, 0, 0, 0, 0, 0, 0, 1, 4, 2, 3, 11, 3\\n0, 1, 2, 0, 0]'),\n",
              " Text(0.8333333333333334, 0.375, 'x[4] <= 0.237\\ngini = 0.862\\nsamples = 40\\nvalue = [0, 0, 0, 0, 1, 0, 1, 1, 1, 1, 2, 8, 4, 10\\n3, 1, 4, 2, 1]'),\n",
              " Text(0.75, 0.125, 'gini = 0.716\\nsamples = 9\\nvalue = [0, 0, 0, 0, 0, 0, 1, 0, 1, 0, 0, 2, 0, 0\\n0, 0, 4, 1, 0]'),\n",
              " Text(0.9166666666666666, 0.125, 'gini = 0.822\\nsamples = 31\\nvalue = [0, 0, 0, 0, 1, 0, 0, 1, 0, 1, 2, 6, 4, 10\\n3, 1, 0, 1, 1]')]"
            ]
          },
          "metadata": {},
          "execution_count": 71
        },
        {
          "output_type": "display_data",
          "data": {
            "text/plain": [
              "<Figure size 640x480 with 1 Axes>"
            ],
            "image/png": "[encoded data removed]"
          },
          "metadata": {}
        }
      ]
    },
    {
      "cell_type": "code",
      "source": [
        "task1 = input(\"Do you want entropy or gini\")\n",
        "attribute_selection_method(df, target,task1)"
      ],
      "metadata": {
        "id": "KHED93QYDpcy",
        "colab": {
          "base_uri": "https://localhost:8080/",
          "height": 311
        },
        "outputId": "8d756cac-ecbb-4ea7-adb6-7c118296ecda"
      },
      "execution_count": 84,
      "outputs": [
        {
          "name": "stdout",
          "output_type": "stream",
          "text": [
            "Do you want entropy or ginientropy\n"
          ]
        },
        {
          "output_type": "error",
          "ename": "ValueError",
          "evalue": "min() arg is an empty sequence",
          "traceback": [
            "\u001b[0;31m---------------------------------------------------------------------------\u001b[0m",
            "\u001b[0;31mValueError\u001b[0m                                Traceback (most recent call last)",
            "\u001b[0;32m<ipython-input-84-3e85321f61bc>\u001b[0m in \u001b[0;36m<cell line: 2>\u001b[0;34m()\u001b[0m\n\u001b[1;32m      1\u001b[0m \u001b[0mtask1\u001b[0m \u001b[0;34m=\u001b[0m \u001b[0minput\u001b[0m\u001b[0;34m(\u001b[0m\u001b[0;34m\"Do you want entropy or gini\"\u001b[0m\u001b[0;34m)\u001b[0m\u001b[0;34m\u001b[0m\u001b[0;34m\u001b[0m\u001b[0m\n\u001b[0;32m----> 2\u001b[0;31m \u001b[0mattribute_selection_method\u001b[0m\u001b[0;34m(\u001b[0m\u001b[0mdf\u001b[0m\u001b[0;34m,\u001b[0m \u001b[0mtarget\u001b[0m\u001b[0;34m,\u001b[0m\u001b[0mtask1\u001b[0m\u001b[0;34m)\u001b[0m\u001b[0;34m\u001b[0m\u001b[0;34m\u001b[0m\u001b[0m\n\u001b[0m",
            "\u001b[0;32m<ipython-input-53-7c1929cd3b5c>\u001b[0m in \u001b[0;36mattribute_selection_method\u001b[0;34m(df, target, measure)\u001b[0m\n\u001b[1;32m     11\u001b[0m         \u001b[0;32mif\u001b[0m \u001b[0mcat_var_check\u001b[0m\u001b[0;34m(\u001b[0m\u001b[0mdf\u001b[0m\u001b[0;34m,\u001b[0m \u001b[0mfeature\u001b[0m\u001b[0;34m)\u001b[0m\u001b[0;34m:\u001b[0m  \u001b[0;31m# If feature is categorical\u001b[0m\u001b[0;34m\u001b[0m\u001b[0;34m\u001b[0m\u001b[0m\n\u001b[1;32m     12\u001b[0m             \u001b[0;32mif\u001b[0m \u001b[0mmeasure\u001b[0m \u001b[0;34m==\u001b[0m \u001b[0;34m'entropy'\u001b[0m\u001b[0;34m:\u001b[0m\u001b[0;34m\u001b[0m\u001b[0;34m\u001b[0m\u001b[0m\n\u001b[0;32m---> 13\u001b[0;31m                 \u001b[0mresult\u001b[0m \u001b[0;34m=\u001b[0m \u001b[0mcat_var_entropy\u001b[0m\u001b[0;34m(\u001b[0m\u001b[0mdf\u001b[0m\u001b[0;34m,\u001b[0m \u001b[0mtarget\u001b[0m\u001b[0;34m,\u001b[0m \u001b[0mfeature\u001b[0m\u001b[0;34m)\u001b[0m\u001b[0;34m\u001b[0m\u001b[0;34m\u001b[0m\u001b[0m\n\u001b[0m\u001b[1;32m     14\u001b[0m             \u001b[0;32melif\u001b[0m \u001b[0mmeasure\u001b[0m \u001b[0;34m==\u001b[0m \u001b[0;34m'gini'\u001b[0m\u001b[0;34m:\u001b[0m\u001b[0;34m\u001b[0m\u001b[0;34m\u001b[0m\u001b[0m\n\u001b[1;32m     15\u001b[0m                 \u001b[0mresult\u001b[0m \u001b[0;34m=\u001b[0m \u001b[0mcat_var_gini\u001b[0m\u001b[0;34m(\u001b[0m\u001b[0mdf\u001b[0m\u001b[0;34m,\u001b[0m \u001b[0mtarget\u001b[0m\u001b[0;34m,\u001b[0m \u001b[0mfeature\u001b[0m\u001b[0;34m)\u001b[0m\u001b[0;34m\u001b[0m\u001b[0;34m\u001b[0m\u001b[0m\n",
            "\u001b[0;32m<ipython-input-49-1cc03e400692>\u001b[0m in \u001b[0;36mcat_var_entropy\u001b[0;34m(df, target, feature)\u001b[0m\n\u001b[1;32m     13\u001b[0m           \u001b[0mentropy\u001b[0m \u001b[0;34m-=\u001b[0m \u001b[0mweight\u001b[0m \u001b[0;34m*\u001b[0m \u001b[0;34m(\u001b[0m\u001b[0mp\u001b[0m \u001b[0;34m*\u001b[0m \u001b[0mmath\u001b[0m\u001b[0;34m.\u001b[0m\u001b[0mlog2\u001b[0m\u001b[0;34m(\u001b[0m\u001b[0mp\u001b[0m\u001b[0;34m)\u001b[0m\u001b[0;34m)\u001b[0m  \u001b[0;31m# Calculate entropy for the current value\u001b[0m\u001b[0;34m\u001b[0m\u001b[0;34m\u001b[0m\u001b[0m\n\u001b[1;32m     14\u001b[0m           \u001b[0mentropies\u001b[0m\u001b[0;34m.\u001b[0m\u001b[0mappend\u001b[0m\u001b[0;34m(\u001b[0m\u001b[0mentropy\u001b[0m\u001b[0;34m)\u001b[0m  \u001b[0;31m# Append entropy value to the list\u001b[0m\u001b[0;34m\u001b[0m\u001b[0;34m\u001b[0m\u001b[0m\n\u001b[0;32m---> 15\u001b[0;31m     \u001b[0;32mreturn\u001b[0m \u001b[0mmin\u001b[0m\u001b[0;34m(\u001b[0m\u001b[0mentropies\u001b[0m\u001b[0;34m)\u001b[0m  \u001b[0;31m# Return the minimum entropy value\u001b[0m\u001b[0;34m\u001b[0m\u001b[0;34m\u001b[0m\u001b[0m\n\u001b[0m",
            "\u001b[0;31mValueError\u001b[0m: min() arg is an empty sequence"
          ]
        }
      ]
    },
    {
      "cell_type": "code",
      "source": [
        "df.columns = df.columns.str.strip()\n",
        "features = df.columns.drop(target)  # Get all features except the target\n",
        "df_numeric = df.select_dtypes(include=[np.number])\n",
        "print(df.columns)\n",
        "print(df.head())\n",
        "\n",
        "df[target] = df[target].replace({'fire': 1, 'not fire': 0})\n",
        "df[target].dropna(inplace=True)\n",
        "\n",
        "task = input(\"Do you want classification or regression\")\n",
        "if task.lower() == 'classification':\n",
        "\n",
        "  task1 = input(\"Do you want entropy or gini\")\n",
        "  attribute_selection_method(df, target, task1)\n",
        "\n",
        "  if task1.lower() == 'entropy':\n",
        "    for feature in features:\n",
        "      entropy_value = cat_var_entropy(df, target, feature)\n",
        "      print(f\"Entropy for {feature}: {entropy_value}\")\n",
        "  elif task1.lower() == 'gini':\n",
        "    for x in features:\n",
        "      gini_value = cat_var_gini(df, target,x)\n",
        "      print(f\"Gini for {x}: {gini_value}\")  # Print the result for each feature\n",
        "\n",
        "\n",
        "\n",
        "elif task.lower() == 'regression':\n",
        "\n",
        "  reg_value = reg_selection(df_numeric, target)\n",
        "  print (reg_value)\n",
        "\n",
        "\n",
        "else:\n",
        "  raise ValueError(\"Invalid task. Must be 'classification' or 'regression'.\")\n",
        "\n"
      ],
      "metadata": {
        "id": "WdvCc9v78rYA",
        "colab": {
          "base_uri": "https://localhost:8080/"
        },
        "outputId": "564843dd-2a85-4bda-8db6-b5839a08bbe2"
      },
      "execution_count": 121,
      "outputs": [
        {
          "output_type": "stream",
          "name": "stdout",
          "text": [
            "Index(['region', 'day', 'month', 'year', 'Temperature', 'RH', 'Ws', 'Rain',\n",
            "       'FFMC', 'DMC', 'DC', 'ISI', 'BUI', 'FWI', 'Classes'],\n",
            "      dtype='object')\n",
            "   region  day  month  year  Temperature  RH  Ws  Rain  FFMC  DMC    DC  ISI  \\\n",
            "0  Bejaia    1      6  2012           29  57  18   0.0  65.7  3.4   7.6  1.3   \n",
            "1  Bejaia    2      6  2012           29  61  13   1.3  64.4  4.1   7.6  1.0   \n",
            "2  Bejaia    3      6  2012           26  82  22  13.1  47.1  2.5   7.1  0.3   \n",
            "3  Bejaia    4      6  2012           25  89  13   2.5  28.6  1.3   6.9  0.0   \n",
            "4  Bejaia    5      6  2012           27  77  16   0.0  64.8  3.0  14.2  1.2   \n",
            "\n",
            "   BUI  FWI  Classes  \n",
            "0  3.4  0.5      NaN  \n",
            "1  3.9  0.4      NaN  \n",
            "2  2.7  0.1      NaN  \n",
            "3  1.7  0.0      NaN  \n",
            "4  3.9  0.5      NaN  \n",
            "Do you want classification or regressionregression\n",
            "('DC', 0.0, nan)\n"
          ]
        }
      ]
    }
  ]
}