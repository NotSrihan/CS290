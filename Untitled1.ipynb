{
  "nbformat": 4,
  "nbformat_minor": 0,
  "metadata": {
    "colab": {
      "provenance": [],
      "authorship_tag": "ABX9TyOXGpJWNMLw2DLQU96igfJn",
      "include_colab_link": true
    },
    "kernelspec": {
      "name": "python3",
      "display_name": "Python 3"
    },
    "language_info": {
      "name": "python"
    }
  },
  "cells": [
    {
      "cell_type": "markdown",
      "metadata": {
        "id": "view-in-github",
        "colab_type": "text"
      },
      "source": [
        "<a href=\"https://colab.research.google.com/github/NotSrihan/CS290/blob/main/Untitled1.ipynb\" target=\"_parent\"><img src=\"https://colab.research.google.com/assets/colab-badge.svg\" alt=\"Open In Colab\"/></a>"
      ]
    },
    {
      "cell_type": "code",
      "execution_count": 15,
      "metadata": {
        "id": "4Q8HyqbyhNAC"
      },
      "outputs": [],
      "source": [
        "import pandas as pd"
      ]
    },
    {
      "cell_type": "code",
      "source": [
        "df = pd.read_csv(\"https://raw.githubusercontent.com/NotSrihan/CS290/refs/heads/main/student%20dropout.csv\")"
      ],
      "metadata": {
        "id": "KlDlcI6rhXLa"
      },
      "execution_count": 16,
      "outputs": []
    },
    {
      "cell_type": "code",
      "source": [
        "df.columns"
      ],
      "metadata": {
        "colab": {
          "base_uri": "https://localhost:8080/"
        },
        "id": "JHqu_mXFhgG2",
        "outputId": "da2f5642-bb42-4e19-9b2e-138469604244"
      },
      "execution_count": 17,
      "outputs": [
        {
          "output_type": "execute_result",
          "data": {
            "text/plain": [
              "Index(['School', 'Gender', 'Age', 'Address', 'Family_Size', 'Parental_Status',\n",
              "       'Mother_Education', 'Father_Education', 'Mother_Job', 'Father_Job',\n",
              "       'Reason_for_Choosing_School', 'Guardian', 'Travel_Time', 'Study_Time',\n",
              "       'Number_of_Failures', 'School_Support', 'Family_Support',\n",
              "       'Extra_Paid_Class', 'Extra_Curricular_Activities', 'Attended_Nursery',\n",
              "       'Wants_Higher_Education', 'Internet_Access', 'In_Relationship',\n",
              "       'Family_Relationship', 'Free_Time', 'Going_Out',\n",
              "       'Weekend_Alcohol_Consumption', 'Weekday_Alcohol_Consumption',\n",
              "       'Health_Status', 'Number_of_Absences', 'Grade_1', 'Grade_2',\n",
              "       'Final_Grade', 'Dropped_Out'],\n",
              "      dtype='object')"
            ]
          },
          "metadata": {},
          "execution_count": 17
        }
      ]
    },
    {
      "cell_type": "code",
      "source": [
        "Study_Time =[]\n",
        "little = 1\n",
        "medium = 2\n",
        "A_lot = 3"
      ],
      "metadata": {
        "id": "0f0Ms1ixhlz4"
      },
      "execution_count": 18,
      "outputs": []
    },
    {
      "cell_type": "code",
      "source": [
        "def Split(a):\n",
        "  if a <= little:\n",
        "    Study_Time.append(\"little\")\n",
        "    return \"little\"\n",
        "  elif a > little and a <= medium:\n",
        "    Study_Time.append(\"medium\")\n",
        "    return \"medium\"\n",
        "  elif a > medium:\n",
        "    Study_Time.append(\"A_lot\")\n",
        "    return \"A_lot\"\n",
        "\n",
        "y = pd.Series(df[\"Study_Time\"].apply(Split))\n",
        "new_instance = {\"Study_Time\": 2, 'failures': 1}\n",
        "\n",
        "# Apply the Split function to the 'studytime' value in the new instance\n",
        "new_instance[\"Study_Time\"] = Split(new_instance[\"Study_Time\"])\n",
        "\n",
        "# Print the updated dictionary\n",
        "print(new_instance)"
      ],
      "metadata": {
        "colab": {
          "base_uri": "https://localhost:8080/"
        },
        "id": "Dg3zxSqMibDv",
        "outputId": "beb00808-9a9c-4f46-8f98-a15ec1c04aa8"
      },
      "execution_count": 19,
      "outputs": [
        {
          "output_type": "stream",
          "name": "stdout",
          "text": [
            "{'Study_Time': 'medium', 'failures': 1}\n"
          ]
        }
      ]
    },
    {
      "cell_type": "code",
      "source": [
        "def Naive(df,prior,new_instance,likehood):\n",
        "  classes = pd.unique(df[\"Class\"])\n",
        "  idk = {}\n",
        "\n",
        "  for c in classes:\n",
        "    idk[c] = prior[c]\n",
        "    for x, value in likelyhood[c]:\n",
        "      if value in likehood[x][c]:\n",
        "        idk[c] = idk[c] * likehood[x][c][value]\n",
        "      else:\n",
        "        idk[c] *= 1e-6\n",
        "  return max(idk, key = idk.get)\n"
      ],
      "metadata": {
        "id": "HM-uNiXHilPo"
      },
      "execution_count": 20,
      "outputs": []
    },
    {
      "cell_type": "code",
      "source": [
        "def chance(x,y):\n",
        "  likelihood = {}\n",
        "  for c in df:\n",
        "    likelihood[c] = {}"
      ],
      "metadata": {
        "id": "8aZI9_ypnaCT"
      },
      "execution_count": 21,
      "outputs": []
    },
    {
      "cell_type": "code",
      "source": [
        "likelihood = chance(df, y)"
      ],
      "metadata": {
        "id": "IreqHyxQnD_D"
      },
      "execution_count": 22,
      "outputs": []
    },
    {
      "cell_type": "code",
      "source": [
        "print(likelihood)\n"
      ],
      "metadata": {
        "colab": {
          "base_uri": "https://localhost:8080/"
        },
        "id": "C7GCGTl_nDzJ",
        "outputId": "231c5550-0174-40cb-efa7-d7e3765cd09a"
      },
      "execution_count": 23,
      "outputs": [
        {
          "output_type": "stream",
          "name": "stdout",
          "text": [
            "None\n"
          ]
        }
      ]
    },
    {
      "cell_type": "code",
      "source": [
        "import pandas as pd\n",
        "from sklearn.model_selection import train_test_split\n",
        "from sklearn.preprocessing import LabelEncoder\n",
        "\n",
        "# Load the dataset\n",
        "df = pd.read_csv(\"https://raw.githubusercontent.com/NotSrihan/CS290/refs/heads/main/student%20dropout.csv\")\n",
        "\n",
        "# Encoding categorical variables\n",
        "label_encoders = {}\n",
        "for column in df.select_dtypes(include=['object']).columns:\n",
        "    le = LabelEncoder()\n",
        "    df[column] = le.fit_transform(df[column])\n",
        "    label_encoders[column] = le\n",
        "\n",
        "\n",
        "X = df.drop(columns=['Final_Grade', 'Dropped_Out'])\n",
        "y = df['Final_Grade']\n",
        "\n",
        "\n",
        "X_train, X_test, y_train, y_test = train_test_split(X, y, test_size=0.2, random_state=42)"
      ],
      "metadata": {
        "id": "sisbAwfe2L20"
      },
      "execution_count": 28,
      "outputs": []
    },
    {
      "cell_type": "code",
      "source": [
        "from sklearn.tree import DecisionTreeRegressor\n",
        "\n",
        "# Train Decision Tree Regressor\n",
        "dt_regressor = DecisionTreeRegressor(random_state=42)\n",
        "dt_regressor.fit(X_train, y_train)\n",
        "\n",
        "y_pred_regressor = dt_regressor.predict(X_test)\n"
      ],
      "metadata": {
        "id": "AJOndR2Q2iEt"
      },
      "execution_count": 29,
      "outputs": []
    },
    {
      "cell_type": "code",
      "source": [
        "from sklearn.tree import DecisionTreeClassifier\n",
        "from sklearn.model_selection import GridSearchCV\n",
        "from sklearn.metrics import classification_report\n",
        "\n",
        "dt_classifier = DecisionTreeClassifier(random_state=42)\n",
        "\n",
        "param_grid = {\n",
        "    'max_depth': [None, 5, 10, 15],\n",
        "    'min_samples_split': [2, 5, 10],\n",
        "    'min_samples_leaf': [1, 2, 4]\n",
        "}\n",
        "\n",
        "grid_search = GridSearchCV(estimator=dt_classifier, param_grid=param_grid,\n",
        "                           scoring='accuracy', cv=5, verbose=1, n_jobs=-1)\n",
        "grid_search.fit(X_train, y_train)\n",
        "\n",
        "\n",
        "best_dt_classifier = grid_search.best_estimator_\n",
        "y_pred_classifier = best_dt_classifier.predict(X_test)\n",
        "print(f\"Best Parameters: {grid_search.best_params_}\")\n",
        "print(classification_report(y_test, y_pred_classifier))"
      ],
      "metadata": {
        "colab": {
          "base_uri": "https://localhost:8080/"
        },
        "id": "zlZqMXfY2tTj",
        "outputId": "9577df6f-5566-4cf4-ca97-d0ce6c5f00fc"
      },
      "execution_count": 30,
      "outputs": [
        {
          "output_type": "stream",
          "name": "stdout",
          "text": [
            "Fitting 5 folds for each of 36 candidates, totalling 180 fits\n"
          ]
        },
        {
          "output_type": "stream",
          "name": "stderr",
          "text": [
            "/usr/local/lib/python3.10/dist-packages/sklearn/model_selection/_split.py:776: UserWarning: The least populated class in y has only 1 members, which is less than n_splits=5.\n",
            "  warnings.warn(\n"
          ]
        },
        {
          "output_type": "stream",
          "name": "stdout",
          "text": [
            "Best Parameters: {'max_depth': 5, 'min_samples_leaf': 1, 'min_samples_split': 2}\n",
            "              precision    recall  f1-score   support\n",
            "\n",
            "           0       1.00      0.50      0.67         2\n",
            "           7       0.00      0.00      0.00         1\n",
            "           8       0.43      0.43      0.43         7\n",
            "           9       0.00      0.00      0.00         5\n",
            "          10       0.50      0.65      0.56        17\n",
            "          11       0.62      0.60      0.61        25\n",
            "          12       0.50      0.19      0.27        16\n",
            "          13       0.44      0.92      0.60        13\n",
            "          14       0.50      0.17      0.25        12\n",
            "          15       0.53      0.80      0.64        10\n",
            "          16       0.67      0.67      0.67         9\n",
            "          17       0.33      0.20      0.25         5\n",
            "          18       0.75      0.86      0.80         7\n",
            "          19       0.00      0.00      0.00         1\n",
            "\n",
            "    accuracy                           0.52       130\n",
            "   macro avg       0.45      0.43      0.41       130\n",
            "weighted avg       0.52      0.52      0.49       130\n",
            "\n"
          ]
        },
        {
          "output_type": "stream",
          "name": "stderr",
          "text": [
            "/usr/local/lib/python3.10/dist-packages/sklearn/metrics/_classification.py:1531: UndefinedMetricWarning: Precision is ill-defined and being set to 0.0 in labels with no predicted samples. Use `zero_division` parameter to control this behavior.\n",
            "  _warn_prf(average, modifier, f\"{metric.capitalize()} is\", len(result))\n",
            "/usr/local/lib/python3.10/dist-packages/sklearn/metrics/_classification.py:1531: UndefinedMetricWarning: Precision is ill-defined and being set to 0.0 in labels with no predicted samples. Use `zero_division` parameter to control this behavior.\n",
            "  _warn_prf(average, modifier, f\"{metric.capitalize()} is\", len(result))\n",
            "/usr/local/lib/python3.10/dist-packages/sklearn/metrics/_classification.py:1531: UndefinedMetricWarning: Precision is ill-defined and being set to 0.0 in labels with no predicted samples. Use `zero_division` parameter to control this behavior.\n",
            "  _warn_prf(average, modifier, f\"{metric.capitalize()} is\", len(result))\n"
          ]
        }
      ]
    },
    {
      "cell_type": "code",
      "source": [
        "from sklearn.metrics import confusion_matrix, ConfusionMatrixDisplay\n",
        "\n",
        "y_pred_classifier = best_dt_classifier.predict(X_test)\n",
        "\n",
        "\n",
        "cm = confusion_matrix(y_test, y_pred_classifier)\n",
        "\n",
        "print(cm)"
      ],
      "metadata": {
        "colab": {
          "base_uri": "https://localhost:8080/"
        },
        "id": "8B08jNES21mX",
        "outputId": "759e8864-3856-40f3-c38c-fe0654f0cc07"
      },
      "execution_count": 37,
      "outputs": [
        {
          "output_type": "stream",
          "name": "stdout",
          "text": [
            "[[ 1  0  0  0  1  0  0  0  0  0  0  0  0  0]\n",
            " [ 0  0  1  0  0  0  0  0  0  0  0  0  0  0]\n",
            " [ 0  3  3  0  1  0  0  0  0  0  0  0  0  0]\n",
            " [ 0  1  1  0  3  0  0  0  0  0  0  0  0  0]\n",
            " [ 0  0  1  0 11  4  1  0  0  0  0  0  0  0]\n",
            " [ 0  0  1  0  6 15  2  1  0  0  0  0  0  0]\n",
            " [ 0  0  0  0  0  4  3  7  2  0  0  0  0  0]\n",
            " [ 0  0  0  0  0  1  0 12  0  0  0  0  0  0]\n",
            " [ 0  0  0  0  0  0  0  7  2  3  0  0  0  0]\n",
            " [ 0  0  0  0  0  0  0  0  0  8  2  0  0  0]\n",
            " [ 0  0  0  0  0  0  0  0  0  3  6  0  0  0]\n",
            " [ 0  0  0  0  0  0  0  0  0  1  1  1  2  0]\n",
            " [ 0  0  0  0  0  0  0  0  0  0  0  1  6  0]\n",
            " [ 0  0  0  0  0  0  0  0  0  0  0  1  0  0]]\n"
          ]
        }
      ]
    }
  ]
}